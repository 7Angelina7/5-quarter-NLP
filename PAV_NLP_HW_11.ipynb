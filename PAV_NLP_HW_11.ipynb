{
  "cells": [
    {
      "cell_type": "markdown",
      "id": "dd7e2d4e",
      "metadata": {
        "id": "dd7e2d4e"
      },
      "source": [
        "## Импорты"
      ]
    },
    {
      "cell_type": "code",
      "source": [
        "!pip install pymorphy2"
      ],
      "metadata": {
        "colab": {
          "base_uri": "https://localhost:8080/"
        },
        "id": "SQ7HtzuJUGrx",
        "outputId": "8e4975f2-9a13-49cf-a3fa-31474c1d9d6b"
      },
      "id": "SQ7HtzuJUGrx",
      "execution_count": 19,
      "outputs": [
        {
          "output_type": "stream",
          "name": "stdout",
          "text": [
            "Requirement already satisfied: pymorphy2 in /usr/local/lib/python3.10/dist-packages (0.9.1)\n",
            "Requirement already satisfied: dawg-python>=0.7.1 in /usr/local/lib/python3.10/dist-packages (from pymorphy2) (0.7.2)\n",
            "Requirement already satisfied: pymorphy2-dicts-ru<3.0,>=2.4 in /usr/local/lib/python3.10/dist-packages (from pymorphy2) (2.4.417127.4579844)\n",
            "Requirement already satisfied: docopt>=0.6 in /usr/local/lib/python3.10/dist-packages (from pymorphy2) (0.6.2)\n"
          ]
        }
      ]
    },
    {
      "cell_type": "code",
      "execution_count": 20,
      "id": "8c183321",
      "metadata": {
        "id": "8c183321"
      },
      "outputs": [],
      "source": [
        "import re\n",
        "import numpy as np\n",
        "from tqdm import tqdm\n",
        "from time import time\n",
        "from functools import lru_cache\n",
        "from pymorphy2 import MorphAnalyzer\n",
        "import multiprocessing as mp\n",
        "\n",
        "from keras import Model\n",
        "from keras.utils import pad_sequences\n",
        "from keras.preprocessing.text import Tokenizer\n",
        "from keras.layers import Embedding, GRU, Dense, Layer\n",
        "from keras.optimizers import Adam\n",
        "from keras.losses import SparseCategoricalCrossentropy\n",
        "\n",
        "import tensorflow as tf\n",
        "from tensorflow.data import Dataset\n",
        "\n",
        "from sklearn.model_selection import train_test_split"
      ]
    },
    {
      "cell_type": "code",
      "source": [
        "from google.colab import files"
      ],
      "metadata": {
        "id": "SMveRRCAUSB2"
      },
      "id": "SMveRRCAUSB2",
      "execution_count": 21,
      "outputs": []
    },
    {
      "cell_type": "markdown",
      "id": "f2dce9f4",
      "metadata": {
        "id": "f2dce9f4"
      },
      "source": [
        "## Настройки"
      ]
    },
    {
      "cell_type": "code",
      "source": [
        "files.upload()"
      ],
      "metadata": {
        "colab": {
          "base_uri": "https://localhost:8080/",
          "height": 73
        },
        "id": "V5xV07v3Tvr-",
        "outputId": "dca3968e-4101-40f2-a8fa-a7eef6369c0a"
      },
      "id": "V5xV07v3Tvr-",
      "execution_count": 22,
      "outputs": [
        {
          "output_type": "display_data",
          "data": {
            "text/plain": [
              "<IPython.core.display.HTML object>"
            ],
            "text/html": [
              "\n",
              "     <input type=\"file\" id=\"files-33e33c0e-ffdd-41ff-8d81-5a2f0288f25d\" name=\"files[]\" multiple disabled\n",
              "        style=\"border:none\" />\n",
              "     <output id=\"result-33e33c0e-ffdd-41ff-8d81-5a2f0288f25d\">\n",
              "      Upload widget is only available when the cell has been executed in the\n",
              "      current browser session. Please rerun this cell to enable.\n",
              "      </output>\n",
              "      <script>// Copyright 2017 Google LLC\n",
              "//\n",
              "// Licensed under the Apache License, Version 2.0 (the \"License\");\n",
              "// you may not use this file except in compliance with the License.\n",
              "// You may obtain a copy of the License at\n",
              "//\n",
              "//      http://www.apache.org/licenses/LICENSE-2.0\n",
              "//\n",
              "// Unless required by applicable law or agreed to in writing, software\n",
              "// distributed under the License is distributed on an \"AS IS\" BASIS,\n",
              "// WITHOUT WARRANTIES OR CONDITIONS OF ANY KIND, either express or implied.\n",
              "// See the License for the specific language governing permissions and\n",
              "// limitations under the License.\n",
              "\n",
              "/**\n",
              " * @fileoverview Helpers for google.colab Python module.\n",
              " */\n",
              "(function(scope) {\n",
              "function span(text, styleAttributes = {}) {\n",
              "  const element = document.createElement('span');\n",
              "  element.textContent = text;\n",
              "  for (const key of Object.keys(styleAttributes)) {\n",
              "    element.style[key] = styleAttributes[key];\n",
              "  }\n",
              "  return element;\n",
              "}\n",
              "\n",
              "// Max number of bytes which will be uploaded at a time.\n",
              "const MAX_PAYLOAD_SIZE = 100 * 1024;\n",
              "\n",
              "function _uploadFiles(inputId, outputId) {\n",
              "  const steps = uploadFilesStep(inputId, outputId);\n",
              "  const outputElement = document.getElementById(outputId);\n",
              "  // Cache steps on the outputElement to make it available for the next call\n",
              "  // to uploadFilesContinue from Python.\n",
              "  outputElement.steps = steps;\n",
              "\n",
              "  return _uploadFilesContinue(outputId);\n",
              "}\n",
              "\n",
              "// This is roughly an async generator (not supported in the browser yet),\n",
              "// where there are multiple asynchronous steps and the Python side is going\n",
              "// to poll for completion of each step.\n",
              "// This uses a Promise to block the python side on completion of each step,\n",
              "// then passes the result of the previous step as the input to the next step.\n",
              "function _uploadFilesContinue(outputId) {\n",
              "  const outputElement = document.getElementById(outputId);\n",
              "  const steps = outputElement.steps;\n",
              "\n",
              "  const next = steps.next(outputElement.lastPromiseValue);\n",
              "  return Promise.resolve(next.value.promise).then((value) => {\n",
              "    // Cache the last promise value to make it available to the next\n",
              "    // step of the generator.\n",
              "    outputElement.lastPromiseValue = value;\n",
              "    return next.value.response;\n",
              "  });\n",
              "}\n",
              "\n",
              "/**\n",
              " * Generator function which is called between each async step of the upload\n",
              " * process.\n",
              " * @param {string} inputId Element ID of the input file picker element.\n",
              " * @param {string} outputId Element ID of the output display.\n",
              " * @return {!Iterable<!Object>} Iterable of next steps.\n",
              " */\n",
              "function* uploadFilesStep(inputId, outputId) {\n",
              "  const inputElement = document.getElementById(inputId);\n",
              "  inputElement.disabled = false;\n",
              "\n",
              "  const outputElement = document.getElementById(outputId);\n",
              "  outputElement.innerHTML = '';\n",
              "\n",
              "  const pickedPromise = new Promise((resolve) => {\n",
              "    inputElement.addEventListener('change', (e) => {\n",
              "      resolve(e.target.files);\n",
              "    });\n",
              "  });\n",
              "\n",
              "  const cancel = document.createElement('button');\n",
              "  inputElement.parentElement.appendChild(cancel);\n",
              "  cancel.textContent = 'Cancel upload';\n",
              "  const cancelPromise = new Promise((resolve) => {\n",
              "    cancel.onclick = () => {\n",
              "      resolve(null);\n",
              "    };\n",
              "  });\n",
              "\n",
              "  // Wait for the user to pick the files.\n",
              "  const files = yield {\n",
              "    promise: Promise.race([pickedPromise, cancelPromise]),\n",
              "    response: {\n",
              "      action: 'starting',\n",
              "    }\n",
              "  };\n",
              "\n",
              "  cancel.remove();\n",
              "\n",
              "  // Disable the input element since further picks are not allowed.\n",
              "  inputElement.disabled = true;\n",
              "\n",
              "  if (!files) {\n",
              "    return {\n",
              "      response: {\n",
              "        action: 'complete',\n",
              "      }\n",
              "    };\n",
              "  }\n",
              "\n",
              "  for (const file of files) {\n",
              "    const li = document.createElement('li');\n",
              "    li.append(span(file.name, {fontWeight: 'bold'}));\n",
              "    li.append(span(\n",
              "        `(${file.type || 'n/a'}) - ${file.size} bytes, ` +\n",
              "        `last modified: ${\n",
              "            file.lastModifiedDate ? file.lastModifiedDate.toLocaleDateString() :\n",
              "                                    'n/a'} - `));\n",
              "    const percent = span('0% done');\n",
              "    li.appendChild(percent);\n",
              "\n",
              "    outputElement.appendChild(li);\n",
              "\n",
              "    const fileDataPromise = new Promise((resolve) => {\n",
              "      const reader = new FileReader();\n",
              "      reader.onload = (e) => {\n",
              "        resolve(e.target.result);\n",
              "      };\n",
              "      reader.readAsArrayBuffer(file);\n",
              "    });\n",
              "    // Wait for the data to be ready.\n",
              "    let fileData = yield {\n",
              "      promise: fileDataPromise,\n",
              "      response: {\n",
              "        action: 'continue',\n",
              "      }\n",
              "    };\n",
              "\n",
              "    // Use a chunked sending to avoid message size limits. See b/62115660.\n",
              "    let position = 0;\n",
              "    do {\n",
              "      const length = Math.min(fileData.byteLength - position, MAX_PAYLOAD_SIZE);\n",
              "      const chunk = new Uint8Array(fileData, position, length);\n",
              "      position += length;\n",
              "\n",
              "      const base64 = btoa(String.fromCharCode.apply(null, chunk));\n",
              "      yield {\n",
              "        response: {\n",
              "          action: 'append',\n",
              "          file: file.name,\n",
              "          data: base64,\n",
              "        },\n",
              "      };\n",
              "\n",
              "      let percentDone = fileData.byteLength === 0 ?\n",
              "          100 :\n",
              "          Math.round((position / fileData.byteLength) * 100);\n",
              "      percent.textContent = `${percentDone}% done`;\n",
              "\n",
              "    } while (position < fileData.byteLength);\n",
              "  }\n",
              "\n",
              "  // All done.\n",
              "  yield {\n",
              "    response: {\n",
              "      action: 'complete',\n",
              "    }\n",
              "  };\n",
              "}\n",
              "\n",
              "scope.google = scope.google || {};\n",
              "scope.google.colab = scope.google.colab || {};\n",
              "scope.google.colab._files = {\n",
              "  _uploadFiles,\n",
              "  _uploadFilesContinue,\n",
              "};\n",
              "})(self);\n",
              "</script> "
            ]
          },
          "metadata": {}
        },
        {
          "output_type": "stream",
          "name": "stdout",
          "text": [
            "Saving rus.txt to rus (1).txt\n"
          ]
        }
      ]
    },
    {
      "cell_type": "code",
      "source": [
        "!ls\n"
      ],
      "metadata": {
        "colab": {
          "base_uri": "https://localhost:8080/"
        },
        "id": "Q1fE41XeXBkW",
        "outputId": "42574442-1699-4434-a3ad-9814f903fdeb"
      },
      "id": "Q1fE41XeXBkW",
      "execution_count": 23,
      "outputs": [
        {
          "output_type": "stream",
          "name": "stdout",
          "text": [
            "'rus (1).txt'   rus.txt   sample_data\n"
          ]
        }
      ]
    },
    {
      "cell_type": "code",
      "execution_count": 24,
      "id": "f845b2bd",
      "metadata": {
        "id": "f845b2bd"
      },
      "outputs": [],
      "source": [
        "PATH = \"./rus.txt\"\n",
        "DATA_LEN = 200000\n",
        "\n",
        "EPOCHS = 10\n",
        "BATCH_SIZE = 128\n",
        "EMBEDDING_DIM = 256\n",
        "UNITS = 1024"
      ]
    },
    {
      "cell_type": "markdown",
      "id": "f98aa3f4",
      "metadata": {
        "id": "f98aa3f4"
      },
      "source": [
        "## Данные"
      ]
    },
    {
      "cell_type": "code",
      "source": [
        "morpher = MorphAnalyzer()\n",
        "\n",
        "@lru_cache(None)\n",
        "def lemmatize(word):\n",
        "    return morpher.parse(word)[0].normal_form"
      ],
      "metadata": {
        "id": "DI7I9Bq1dLgo"
      },
      "id": "DI7I9Bq1dLgo",
      "execution_count": 25,
      "outputs": []
    },
    {
      "cell_type": "code",
      "execution_count": 26,
      "id": "5abf2e46",
      "metadata": {
        "id": "5abf2e46"
      },
      "outputs": [],
      "source": [
        "def preprocess(text):\n",
        "    text = text.strip().lower()\n",
        "    text = re.sub(r\"([?.!,])\", r\" \\1 \", text)\n",
        "    text = re.sub(r\"[^a-zA-Zа-яА-Я?.!,']+\", \" \", text)\n",
        "    # text = re.sub(r'[\" \"]+', \" \",text)\n",
        "    text = \" \".join([lemmatize(word) for word in text.split(\" \")])\n",
        "    text = text.strip()\n",
        "    return '<start> ' + text + ' <end>'"
      ]
    },
    {
      "cell_type": "code",
      "execution_count": 27,
      "id": "8dec7458",
      "metadata": {
        "id": "8dec7458"
      },
      "outputs": [],
      "source": [
        "def tokenize(data):\n",
        "    tokenizer = Tokenizer(filters='')\n",
        "    tokenizer.fit_on_texts(data)\n",
        "    tensor = tokenizer.texts_to_sequences(data)\n",
        "    tensor = pad_sequences(tensor, padding='post')\n",
        "    return tensor, tokenizer"
      ]
    },
    {
      "cell_type": "code",
      "execution_count": 28,
      "id": "6bd81388",
      "metadata": {
        "id": "6bd81388"
      },
      "outputs": [],
      "source": [
        "def preprocess_line(line):\n",
        "    return [preprocess(text) for text in line.split('\\t')[:2]]\n",
        "\n",
        "def load_data(path, num_examples):\n",
        "    with open(path, 'r', encoding='utf-8') as file:\n",
        "        lines = file.readlines()\n",
        "        res = []\n",
        "\n",
        "        with mp.Pool(mp.cpu_count()) as pool:\n",
        "            res = pool.map(preprocess_line, tqdm(lines[:num_examples]))\n",
        "\n",
        "        en, ru = zip(*res)\n",
        "        ru_tensor, ru_tokenizer = tokenize(ru)\n",
        "        en_tensor, en_tokenizer = tokenize(en)\n",
        "        return ru_tensor, en_tensor, ru_tokenizer, en_tokenizer"
      ]
    },
    {
      "cell_type": "code",
      "execution_count": 29,
      "id": "ca427679",
      "metadata": {
        "id": "ca427679",
        "colab": {
          "base_uri": "https://localhost:8080/"
        },
        "outputId": "24544feb-fab5-4b11-8ab7-239644f05033"
      },
      "outputs": [
        {
          "output_type": "stream",
          "name": "stderr",
          "text": [
            "100%|██████████| 200000/200000 [00:14<00:00, 14240.18it/s]\n"
          ]
        }
      ],
      "source": [
        "ru_tensor, en_tensor, ru_tokenizer, en_tokenizer = load_data(PATH, DATA_LEN)\n",
        "\n",
        "ru_len, en_len = ru_tensor.shape[1], en_tensor.shape[1]\n",
        "ru_tensor_train, ru_tensor_val, en_tensor_train, en_tensor_val = train_test_split(ru_tensor, en_tensor, test_size=0.2)\n",
        "\n",
        "BUFFER_SIZE = len(ru_tensor_train)\n",
        "dataset = Dataset.from_tensor_slices((ru_tensor_train, en_tensor_train)).shuffle(BUFFER_SIZE)\n",
        "dataset = dataset.batch(BATCH_SIZE, drop_remainder=True)"
      ]
    },
    {
      "cell_type": "markdown",
      "id": "63e43e51",
      "metadata": {
        "id": "63e43e51"
      },
      "source": [
        "## Модель"
      ]
    },
    {
      "cell_type": "code",
      "execution_count": 31,
      "id": "9322c5b2",
      "metadata": {
        "id": "9322c5b2"
      },
      "outputs": [],
      "source": [
        "class Encoder(Model):\n",
        "    def __init__(self, vocab_size, embedding_dim, encoder_units, batch_size):\n",
        "        super().__init__()\n",
        "        self.batch_size = batch_size\n",
        "        self.encoder_units = encoder_units\n",
        "        self.embedding = Embedding(vocab_size, embedding_dim)\n",
        "        self.gru = GRU(encoder_units,\n",
        "                       return_sequences=True,\n",
        "                       return_state=True,\n",
        "                       recurrent_initializer='glorot_uniform')\n",
        "\n",
        "    def call(self, x, hidden):\n",
        "        x = self.embedding(x)\n",
        "        output, state = self.gru(x, initial_state = hidden)\n",
        "        return output, state\n",
        "\n",
        "    def initialize_hidden_state(self):\n",
        "        return tf.zeros((self.batch_size, self.encoder_units))"
      ]
    },
    {
      "cell_type": "code",
      "source": [
        "class BahdanauAttention(Layer):\n",
        "    def __init__(self, units):\n",
        "        super().__init__()\n",
        "        self.W1 = Dense(units)\n",
        "        self.W2 = Dense(units)\n",
        "        self.V = Dense(1)\n",
        "\n",
        "    def call(self, query, values):\n",
        "        query_with_time_axis = tf.expand_dims(query, 1)\n",
        "        score = self.V(tf.nn.tanh(self.W1(query_with_time_axis) + self.W2(values)))\n",
        "        attention_weights = tf.nn.softmax(score, axis=1)\n",
        "        context_vector = attention_weights * values\n",
        "        context_vector = tf.reduce_sum(context_vector, axis=1)\n",
        "\n",
        "        return context_vector, attention_weights"
      ],
      "metadata": {
        "id": "N6l_E-BspF3I"
      },
      "id": "N6l_E-BspF3I",
      "execution_count": 32,
      "outputs": []
    },
    {
      "cell_type": "code",
      "execution_count": 33,
      "id": "ea661b95",
      "metadata": {
        "id": "ea661b95"
      },
      "outputs": [],
      "source": [
        "class Decoder(Model):\n",
        "    def __init__(self, vocab_size, embedding_dim, decoder_units, batch_size):\n",
        "        super().__init__()\n",
        "        self.batch_size = batch_size\n",
        "        self.decoder_units = decoder_units\n",
        "        self.dense = Dense(vocab_size)\n",
        "        self.embedding = Embedding(vocab_size, embedding_dim)\n",
        "        self.attention = BahdanauAttention(decoder_units)\n",
        "        self.gru = GRU(decoder_units,\n",
        "                       return_sequences=True,\n",
        "                       return_state=True,\n",
        "                       recurrent_initializer='glorot_uniform')\n",
        "\n",
        "    def call(self, x, hidden, encoder_output):\n",
        "        context_vector, attention_weights = self.attention(hidden, encoder_output)\n",
        "        x = self.embedding(x)\n",
        "        x = tf.concat([tf.expand_dims(context_vector, 1), x], axis=-1)\n",
        "        output, state = self.gru(x)\n",
        "        output = tf.reshape(output, (-1, output.shape[2]))\n",
        "        x = self.dense(output)\n",
        "        return x, state, attention_weights"
      ]
    },
    {
      "cell_type": "code",
      "execution_count": 34,
      "id": "e2941986",
      "metadata": {
        "id": "e2941986"
      },
      "outputs": [],
      "source": [
        "ru_vocab_size = len(ru_tokenizer.word_index)+1\n",
        "en_vocab_size = len(en_tokenizer.word_index)+1\n",
        "\n",
        "encoder = Encoder(ru_vocab_size, EMBEDDING_DIM, UNITS, BATCH_SIZE)\n",
        "decoder = Decoder(en_vocab_size, EMBEDDING_DIM, UNITS, BATCH_SIZE)\n",
        "\n",
        "optimizer = Adam()\n",
        "loss_obj = SparseCategoricalCrossentropy(from_logits=True, reduction='none')"
      ]
    },
    {
      "cell_type": "code",
      "execution_count": 35,
      "id": "b6a225ff",
      "metadata": {
        "id": "b6a225ff"
      },
      "outputs": [],
      "source": [
        "def loss_func(real, pred):\n",
        "    mask = tf.math.logical_not(tf.math.equal(real, 0))\n",
        "    loss_ = loss_obj(real, pred)\n",
        "    mask = tf.cast(mask, dtype=loss_.dtype)\n",
        "    loss_ *= mask\n",
        "    return tf.reduce_mean(loss_)"
      ]
    },
    {
      "cell_type": "markdown",
      "id": "61c8e77f",
      "metadata": {
        "id": "61c8e77f"
      },
      "source": [
        "## Обучение"
      ]
    },
    {
      "cell_type": "code",
      "execution_count": 36,
      "id": "f2d0e5ca",
      "metadata": {
        "id": "f2d0e5ca"
      },
      "outputs": [],
      "source": [
        "@tf.function\n",
        "def train_step(inp, targ, enc_hidden):\n",
        "    loss = 0\n",
        "    with tf.GradientTape() as tape:\n",
        "        enc_output, enc_hidden = encoder(inp, enc_hidden)\n",
        "        dec_hidden = enc_hidden\n",
        "        dec_input = tf.expand_dims([en_tokenizer.word_index['<start>']] * BATCH_SIZE, 1)\n",
        "\n",
        "        for t in range(1, targ.shape[1]):\n",
        "            predictions, dec_hidden, _ = decoder(dec_input, dec_hidden, enc_output)\n",
        "            loss += loss_func(targ[:, t], predictions)\n",
        "            dec_input = tf.expand_dims(targ[:, t], 1)\n",
        "\n",
        "        batch_loss = (loss / int(targ.shape[1]))\n",
        "        variables = encoder.trainable_variables + decoder.trainable_variables\n",
        "        gradients = tape.gradient(loss, variables)\n",
        "\n",
        "        optimizer.apply_gradients(zip(gradients, variables))\n",
        "\n",
        "    return batch_loss"
      ]
    },
    {
      "cell_type": "code",
      "execution_count": 37,
      "id": "5cfe657e",
      "metadata": {
        "colab": {
          "base_uri": "https://localhost:8080/"
        },
        "id": "5cfe657e",
        "outputId": "924839e2-ab5d-4afd-b319-d4af8610c5f3"
      },
      "outputs": [
        {
          "output_type": "stream",
          "name": "stdout",
          "text": [
            "Epoch 1 Batch 0 Loss 4.8011\n",
            "Epoch 1 Batch 100 Loss 2.2326\n",
            "Epoch 1 Batch 200 Loss 2.0248\n",
            "Epoch 1 Batch 300 Loss 1.7915\n",
            "Epoch 1 Batch 400 Loss 1.6024\n",
            "Epoch 1 Batch 500 Loss 1.4643\n",
            "Epoch 1 Batch 600 Loss 1.4605\n",
            "Epoch 1 Batch 700 Loss 1.2659\n",
            "Epoch 1 Batch 800 Loss 1.1239\n",
            "Epoch 1 Batch 900 Loss 1.0564\n",
            "Epoch 1 Batch 1000 Loss 0.9452\n",
            "Epoch 1 Batch 1100 Loss 0.8922\n",
            "Epoch 1 Batch 1200 Loss 0.6844\n",
            "Epoch 1 Loss 1.4541\n",
            "Time taken for 1 epoch 201.7161033153534 sec\n",
            "\n",
            "Epoch 2 Batch 0 Loss 0.7139\n",
            "Epoch 2 Batch 100 Loss 0.6289\n",
            "Epoch 2 Batch 200 Loss 0.6877\n",
            "Epoch 2 Batch 300 Loss 0.5997\n",
            "Epoch 2 Batch 400 Loss 0.5445\n",
            "Epoch 2 Batch 500 Loss 0.5613\n",
            "Epoch 2 Batch 600 Loss 0.5070\n",
            "Epoch 2 Batch 700 Loss 0.4436\n",
            "Epoch 2 Batch 800 Loss 0.4691\n",
            "Epoch 2 Batch 900 Loss 0.5114\n",
            "Epoch 2 Batch 1000 Loss 0.4821\n",
            "Epoch 2 Batch 1100 Loss 0.4300\n",
            "Epoch 2 Batch 1200 Loss 0.4522\n",
            "Epoch 2 Loss 0.5414\n",
            "Time taken for 1 epoch 180.532696723938 sec\n",
            "\n",
            "Epoch 3 Batch 0 Loss 0.3273\n",
            "Epoch 3 Batch 100 Loss 0.3212\n",
            "Epoch 3 Batch 200 Loss 0.4097\n",
            "Epoch 3 Batch 300 Loss 0.2878\n",
            "Epoch 3 Batch 400 Loss 0.3172\n",
            "Epoch 3 Batch 500 Loss 0.3416\n",
            "Epoch 3 Batch 600 Loss 0.3207\n",
            "Epoch 3 Batch 700 Loss 0.3466\n",
            "Epoch 3 Batch 800 Loss 0.2966\n",
            "Epoch 3 Batch 900 Loss 0.3048\n",
            "Epoch 3 Batch 1000 Loss 0.2408\n",
            "Epoch 3 Batch 1100 Loss 0.3263\n",
            "Epoch 3 Batch 1200 Loss 0.2879\n",
            "Epoch 3 Loss 0.3292\n",
            "Time taken for 1 epoch 179.92321228981018 sec\n",
            "\n",
            "Epoch 4 Batch 0 Loss 0.2205\n",
            "Epoch 4 Batch 100 Loss 0.2098\n",
            "Epoch 4 Batch 200 Loss 0.2213\n",
            "Epoch 4 Batch 300 Loss 0.2508\n",
            "Epoch 4 Batch 400 Loss 0.2188\n",
            "Epoch 4 Batch 500 Loss 0.2312\n",
            "Epoch 4 Batch 600 Loss 0.2201\n",
            "Epoch 4 Batch 700 Loss 0.2582\n",
            "Epoch 4 Batch 800 Loss 0.2461\n",
            "Epoch 4 Batch 900 Loss 0.2569\n",
            "Epoch 4 Batch 1000 Loss 0.2310\n",
            "Epoch 4 Batch 1100 Loss 0.2527\n",
            "Epoch 4 Batch 1200 Loss 0.2107\n",
            "Epoch 4 Loss 0.2342\n",
            "Time taken for 1 epoch 180.34717726707458 sec\n",
            "\n",
            "Epoch 5 Batch 0 Loss 0.1766\n",
            "Epoch 5 Batch 100 Loss 0.1483\n",
            "Epoch 5 Batch 200 Loss 0.2078\n",
            "Epoch 5 Batch 300 Loss 0.1585\n",
            "Epoch 5 Batch 400 Loss 0.2179\n",
            "Epoch 5 Batch 500 Loss 0.1703\n",
            "Epoch 5 Batch 600 Loss 0.1868\n",
            "Epoch 5 Batch 700 Loss 0.1770\n",
            "Epoch 5 Batch 800 Loss 0.1999\n",
            "Epoch 5 Batch 900 Loss 0.1894\n",
            "Epoch 5 Batch 1000 Loss 0.2051\n",
            "Epoch 5 Batch 1100 Loss 0.1832\n",
            "Epoch 5 Batch 1200 Loss 0.2198\n",
            "Epoch 5 Loss 0.1806\n",
            "Time taken for 1 epoch 180.4262421131134 sec\n",
            "\n",
            "Epoch 6 Batch 0 Loss 0.1247\n",
            "Epoch 6 Batch 100 Loss 0.1279\n",
            "Epoch 6 Batch 200 Loss 0.1559\n",
            "Epoch 6 Batch 300 Loss 0.1305\n",
            "Epoch 6 Batch 400 Loss 0.1343\n",
            "Epoch 6 Batch 500 Loss 0.1425\n",
            "Epoch 6 Batch 600 Loss 0.1383\n",
            "Epoch 6 Batch 700 Loss 0.1628\n",
            "Epoch 6 Batch 800 Loss 0.1269\n",
            "Epoch 6 Batch 900 Loss 0.1400\n",
            "Epoch 6 Batch 1000 Loss 0.1548\n",
            "Epoch 6 Batch 1100 Loss 0.1638\n",
            "Epoch 6 Batch 1200 Loss 0.1781\n",
            "Epoch 6 Loss 0.1474\n",
            "Time taken for 1 epoch 180.03476786613464 sec\n",
            "\n",
            "Epoch 7 Batch 0 Loss 0.1321\n",
            "Epoch 7 Batch 100 Loss 0.0961\n",
            "Epoch 7 Batch 200 Loss 0.1096\n",
            "Epoch 7 Batch 300 Loss 0.1133\n",
            "Epoch 7 Batch 400 Loss 0.1086\n",
            "Epoch 7 Batch 500 Loss 0.1045\n",
            "Epoch 7 Batch 600 Loss 0.1100\n",
            "Epoch 7 Batch 700 Loss 0.1288\n",
            "Epoch 7 Batch 800 Loss 0.1359\n",
            "Epoch 7 Batch 900 Loss 0.1503\n",
            "Epoch 7 Batch 1000 Loss 0.1570\n",
            "Epoch 7 Batch 1100 Loss 0.1184\n",
            "Epoch 7 Batch 1200 Loss 0.1427\n",
            "Epoch 7 Loss 0.1254\n",
            "Time taken for 1 epoch 180.05732560157776 sec\n",
            "\n",
            "Epoch 8 Batch 0 Loss 0.1135\n",
            "Epoch 8 Batch 100 Loss 0.0921\n",
            "Epoch 8 Batch 200 Loss 0.1190\n",
            "Epoch 8 Batch 300 Loss 0.0979\n",
            "Epoch 8 Batch 400 Loss 0.0947\n",
            "Epoch 8 Batch 500 Loss 0.1045\n",
            "Epoch 8 Batch 600 Loss 0.1058\n",
            "Epoch 8 Batch 700 Loss 0.0936\n",
            "Epoch 8 Batch 800 Loss 0.1262\n",
            "Epoch 8 Batch 900 Loss 0.1275\n",
            "Epoch 8 Batch 1000 Loss 0.1157\n",
            "Epoch 8 Batch 1100 Loss 0.1350\n",
            "Epoch 8 Batch 1200 Loss 0.1210\n",
            "Epoch 8 Loss 0.1101\n",
            "Time taken for 1 epoch 179.62999057769775 sec\n",
            "\n",
            "Epoch 9 Batch 0 Loss 0.0990\n",
            "Epoch 9 Batch 100 Loss 0.0959\n",
            "Epoch 9 Batch 200 Loss 0.0782\n",
            "Epoch 9 Batch 300 Loss 0.0986\n",
            "Epoch 9 Batch 400 Loss 0.1238\n",
            "Epoch 9 Batch 500 Loss 0.0867\n",
            "Epoch 9 Batch 600 Loss 0.1021\n",
            "Epoch 9 Batch 700 Loss 0.0963\n",
            "Epoch 9 Batch 800 Loss 0.1138\n",
            "Epoch 9 Batch 900 Loss 0.1177\n",
            "Epoch 9 Batch 1000 Loss 0.1174\n",
            "Epoch 9 Batch 1100 Loss 0.1151\n",
            "Epoch 9 Batch 1200 Loss 0.1205\n",
            "Epoch 9 Loss 0.1001\n",
            "Time taken for 1 epoch 180.18328595161438 sec\n",
            "\n",
            "Epoch 10 Batch 0 Loss 0.0802\n",
            "Epoch 10 Batch 100 Loss 0.0724\n",
            "Epoch 10 Batch 200 Loss 0.0719\n",
            "Epoch 10 Batch 300 Loss 0.0940\n",
            "Epoch 10 Batch 400 Loss 0.0886\n",
            "Epoch 10 Batch 500 Loss 0.0928\n",
            "Epoch 10 Batch 600 Loss 0.0913\n",
            "Epoch 10 Batch 700 Loss 0.0981\n",
            "Epoch 10 Batch 800 Loss 0.0895\n",
            "Epoch 10 Batch 900 Loss 0.0955\n",
            "Epoch 10 Batch 1000 Loss 0.0847\n",
            "Epoch 10 Batch 1100 Loss 0.0968\n",
            "Epoch 10 Batch 1200 Loss 0.0953\n",
            "Epoch 10 Loss 0.0923\n",
            "Time taken for 1 epoch 179.88248300552368 sec\n",
            "\n"
          ]
        }
      ],
      "source": [
        "steps_per_epoch = len(ru_tensor_train)//BATCH_SIZE\n",
        "\n",
        "for epoch in range(EPOCHS):\n",
        "    start_time = time()\n",
        "\n",
        "    enc_hidden = encoder.initialize_hidden_state()\n",
        "    total_loss = 0\n",
        "\n",
        "    for (batch, (inp, targ)) in enumerate(dataset.take(steps_per_epoch)):\n",
        "        batch_loss = train_step(inp, targ, enc_hidden)\n",
        "        total_loss += batch_loss\n",
        "\n",
        "        if batch % 100 == 0:\n",
        "            print('Epoch {} Batch {} Loss {:.4f}'.format(epoch + 1,\n",
        "                                                         batch,\n",
        "                                                         batch_loss.numpy()))\n",
        "\n",
        "    print('Epoch {} Loss {:.4f}'.format(epoch + 1, total_loss / steps_per_epoch))\n",
        "    print('Time taken for 1 epoch {} sec\\n'.format(time() - start_time))"
      ]
    },
    {
      "cell_type": "code",
      "execution_count": 38,
      "id": "a76f6bc8",
      "metadata": {
        "id": "a76f6bc8"
      },
      "outputs": [],
      "source": [
        "ru_max_len = ru_tensor.shape[1]\n",
        "en_max_len = en_tensor.shape[1]\n",
        "\n",
        "def translate(sentence):\n",
        "    sentence = preprocess(sentence)\n",
        "    inputs = [ru_tokenizer.word_index[i] for i in sentence.split(' ')]\n",
        "    inputs = pad_sequences([inputs],\n",
        "                            maxlen=ru_max_len,\n",
        "                            padding='post')\n",
        "\n",
        "    inputs = tf.convert_to_tensor(inputs)\n",
        "\n",
        "    result = ''\n",
        "    hidden = [tf.zeros((1, UNITS))]\n",
        "    enc_out, enc_hidden = encoder(inputs, hidden)\n",
        "    dec_hidden = enc_hidden\n",
        "    dec_input = tf.expand_dims([en_tokenizer.word_index['<start>']], 0)\n",
        "\n",
        "    for t in range(en_max_len):\n",
        "        predictions, dec_hidden, attention_weights = decoder(dec_input, dec_hidden, enc_out)\n",
        "        predicted_id = tf.argmax(predictions[0]).numpy()\n",
        "        if en_tokenizer.index_word[predicted_id] == '<end>':\n",
        "            return result, sentence\n",
        "\n",
        "        result += en_tokenizer.index_word[predicted_id] + ' '\n",
        "        dec_input = tf.expand_dims([predicted_id], 0)\n",
        "\n",
        "    return result, sentence"
      ]
    },
    {
      "cell_type": "code",
      "source": [
        "print(translate('Я буду делать домашнее задание.')[0])"
      ],
      "metadata": {
        "colab": {
          "base_uri": "https://localhost:8080/"
        },
        "id": "1Q0kZML__25v",
        "outputId": "ac658937-f801-45a0-c8d0-b8132193c44c"
      },
      "id": "1Q0kZML__25v",
      "execution_count": 39,
      "outputs": [
        {
          "output_type": "stream",
          "name": "stdout",
          "text": [
            "i'll do my homework . \n"
          ]
        }
      ]
    },
    {
      "cell_type": "code",
      "source": [
        "print(translate('Я не буду делать домашнее задание.')[0])\n"
      ],
      "metadata": {
        "colab": {
          "base_uri": "https://localhost:8080/"
        },
        "id": "JWlRwaTLBWg9",
        "outputId": "d1e30f7f-3e93-4f35-cf86-3b0dee24798d"
      },
      "id": "JWlRwaTLBWg9",
      "execution_count": 40,
      "outputs": [
        {
          "output_type": "stream",
          "name": "stdout",
          "text": [
            "i won't do my homework . \n"
          ]
        }
      ]
    },
    {
      "cell_type": "code",
      "source": [
        "print(translate('Эта домашняя работа очень долго издевалась надо мной!')[0])"
      ],
      "metadata": {
        "colab": {
          "base_uri": "https://localhost:8080/"
        },
        "id": "6WUQ4ZEBBfuw",
        "outputId": "b50fdda2-e31a-4b62-a474-e6d936002609"
      },
      "id": "6WUQ4ZEBBfuw",
      "execution_count": 41,
      "outputs": [
        {
          "output_type": "stream",
          "name": "stdout",
          "text": [
            "my homework is very clear . \n"
          ]
        }
      ]
    },
    {
      "cell_type": "code",
      "source": [
        "print(translate('Тепло ли на улице?')[0])"
      ],
      "metadata": {
        "colab": {
          "base_uri": "https://localhost:8080/"
        },
        "id": "7iTMs0DyCRMx",
        "outputId": "24ad1f76-3eab-4fdb-f0ce-8cbd88027f07"
      },
      "id": "7iTMs0DyCRMx",
      "execution_count": 42,
      "outputs": [
        {
          "output_type": "stream",
          "name": "stdout",
          "text": [
            "is it warm outside ? \n"
          ]
        }
      ]
    },
    {
      "cell_type": "code",
      "source": [
        "print(translate('На улице жарко!')[0])\n",
        "print(translate('На улице жарко?')[0])"
      ],
      "metadata": {
        "colab": {
          "base_uri": "https://localhost:8080/"
        },
        "id": "TNV6H9ZlK9EZ",
        "outputId": "eee2d7dc-bd2c-4706-aee9-57d15158ed02"
      },
      "id": "TNV6H9ZlK9EZ",
      "execution_count": 43,
      "outputs": [
        {
          "output_type": "stream",
          "name": "stdout",
          "text": [
            "it's hot outside ! \n",
            "is it hot outside ? \n"
          ]
        }
      ]
    },
    {
      "cell_type": "code",
      "source": [
        "print(translate('На твоём месте я бы не пошел туда')[0])"
      ],
      "metadata": {
        "colab": {
          "base_uri": "https://localhost:8080/"
        },
        "id": "DuEqZsD5LubB",
        "outputId": "bd6a2833-92db-4045-fc1a-eefe7adff0d9"
      },
      "id": "DuEqZsD5LubB",
      "execution_count": 44,
      "outputs": [
        {
          "output_type": "stream",
          "name": "stdout",
          "text": [
            "i'd go if i go there if i go there if i \n"
          ]
        }
      ]
    }
  ],
  "metadata": {
    "kernelspec": {
      "display_name": "Python 3",
      "name": "python3"
    },
    "language_info": {
      "codemirror_mode": {
        "name": "ipython",
        "version": 3
      },
      "file_extension": ".py",
      "mimetype": "text/x-python",
      "name": "python",
      "nbconvert_exporter": "python",
      "pygments_lexer": "ipython3",
      "version": "3.9.13"
    },
    "colab": {
      "provenance": [],
      "gpuType": "T4"
    },
    "accelerator": "GPU"
  },
  "nbformat": 4,
  "nbformat_minor": 5
}