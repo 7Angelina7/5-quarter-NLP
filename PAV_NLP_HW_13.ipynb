{
  "cells": [
    {
      "cell_type": "markdown",
      "id": "22e6958a",
      "metadata": {
        "id": "22e6958a"
      },
      "source": [
        "# С помощью бертов решить задачу классификации"
      ]
    },
    {
      "cell_type": "markdown",
      "id": "dd7e2d4e",
      "metadata": {
        "id": "dd7e2d4e"
      },
      "source": [
        "## Импорты"
      ]
    },
    {
      "cell_type": "code",
      "execution_count": 25,
      "id": "8c183321",
      "metadata": {
        "id": "8c183321"
      },
      "outputs": [],
      "source": [
        "import numpy as np\n",
        "import pandas as pd\n",
        "\n",
        "import torch\n",
        "from torch import argmax\n",
        "from torch.nn.functional import softmax\n",
        "from transformers import BertTokenizerFast, AutoModelForSequenceClassification\n"
      ]
    },
    {
      "cell_type": "markdown",
      "id": "f2dce9f4",
      "metadata": {
        "id": "f2dce9f4"
      },
      "source": [
        "## Настройки"
      ]
    },
    {
      "cell_type": "code",
      "execution_count": 26,
      "id": "f845b2bd",
      "metadata": {
        "id": "f845b2bd"
      },
      "outputs": [],
      "source": [
        "DEVICE = torch.device('cuda:0' if torch.cuda.is_available() else 'cpu')\n",
        "MODEL = 'blanchefort/rubert-base-cased-sentiment'\n"
      ]
    },
    {
      "cell_type": "code",
      "source": [
        "DEVICE"
      ],
      "metadata": {
        "colab": {
          "base_uri": "https://localhost:8080/"
        },
        "id": "VE6yb_s_UmHU",
        "outputId": "9bae4b67-49c6-45f1-9d19-0af43ba9fc7e"
      },
      "id": "VE6yb_s_UmHU",
      "execution_count": 27,
      "outputs": [
        {
          "output_type": "execute_result",
          "data": {
            "text/plain": [
              "device(type='cuda', index=0)"
            ]
          },
          "metadata": {},
          "execution_count": 27
        }
      ]
    },
    {
      "cell_type": "markdown",
      "id": "3a528df6",
      "metadata": {
        "id": "3a528df6"
      },
      "source": [
        "## Модель"
      ]
    },
    {
      "cell_type": "code",
      "execution_count": 28,
      "id": "63dc3290",
      "metadata": {
        "id": "63dc3290"
      },
      "outputs": [],
      "source": [
        "class SentimentClassifier:\n",
        "    CALSSES = ['Нейтральный', 'Позитивный', 'Негативный']\n",
        "\n",
        "    def __init__(self, model, device='cpu'):\n",
        "        self._tokenizer = BertTokenizerFast.from_pretrained(model)\n",
        "        self._model = AutoModelForSequenceClassification.from_pretrained(model)\n",
        "        self.to(device)\n",
        "\n",
        "    @torch.no_grad()\n",
        "    def predict(self, text, aggregate=True):\n",
        "        inputs = self._tokenizer(text,\n",
        "                                 max_length=512,\n",
        "                                 padding=True,\n",
        "                                 truncation=True,\n",
        "                                 return_tensors='pt')\n",
        "\n",
        "        inputs = inputs.to(self._device)\n",
        "        outputs = self._model(**inputs)\n",
        "        predicted = softmax(outputs.logits, dim=1)\n",
        "        predicted = argmax(predicted, dim=1).to('cpu').numpy()\n",
        "\n",
        "        if aggregate:\n",
        "            try:\n",
        "                return self.CALSSES[predicted[0]]\n",
        "            except:\n",
        "                return 'Ошибка определения класса!'\n",
        "\n",
        "        return predicted\n",
        "\n",
        "    def to(self, device):\n",
        "        self._model = self._model.to(device)\n",
        "        self._device = device\n",
        "\n",
        "classifier = SentimentClassifier(MODEL, device=device)"
      ]
    },
    {
      "cell_type": "code",
      "execution_count": 29,
      "id": "8eb17f8c",
      "metadata": {
        "colab": {
          "base_uri": "https://localhost:8080/"
        },
        "id": "8eb17f8c",
        "outputId": "cac164c7-21b6-4c69-bcd0-84696002263c"
      },
      "outputs": [
        {
          "output_type": "stream",
          "name": "stdout",
          "text": [
            "Нейтральный\n"
          ]
        }
      ],
      "source": [
        "print(classifier.predict('Огни на главной новогодней елке на Дворцовой площади зажгут 20 декабря'))"
      ]
    },
    {
      "cell_type": "code",
      "execution_count": 30,
      "id": "7f2ff455",
      "metadata": {
        "colab": {
          "base_uri": "https://localhost:8080/"
        },
        "id": "7f2ff455",
        "outputId": "4397b6d1-4146-4962-ef48-11e2f1a7a302"
      },
      "outputs": [
        {
          "output_type": "stream",
          "name": "stdout",
          "text": [
            "Нейтральный\n"
          ]
        }
      ],
      "source": [
        "print(classifier.predict('Из Петербурга в Донецкую Народную Республику была отправлена тонна гуманитарного груза'))"
      ]
    },
    {
      "cell_type": "code",
      "execution_count": 31,
      "id": "bf18f16a",
      "metadata": {
        "colab": {
          "base_uri": "https://localhost:8080/"
        },
        "id": "bf18f16a",
        "outputId": "52d409ef-a537-4878-8cb3-7811d2469797"
      },
      "outputs": [
        {
          "output_type": "stream",
          "name": "stdout",
          "text": [
            "Негативный\n"
          ]
        }
      ],
      "source": [
        "print(classifier.predict('Выросло число пострадавших при стрельбе в Брянске'))"
      ]
    },
    {
      "cell_type": "code",
      "source": [
        "print(classifier.predict('В Подмосковье нашли тело убитого экс-депутата Верховной рады Ильи Кивы  '))"
      ],
      "metadata": {
        "colab": {
          "base_uri": "https://localhost:8080/"
        },
        "id": "LCCmP7YsU2cb",
        "outputId": "92f94a67-a6d3-41ba-e7a5-e010494ddcc4"
      },
      "id": "LCCmP7YsU2cb",
      "execution_count": 32,
      "outputs": [
        {
          "output_type": "stream",
          "name": "stdout",
          "text": [
            "Нейтральный\n"
          ]
        }
      ]
    },
    {
      "cell_type": "code",
      "source": [
        "print(classifier.predict('Сегодня уроков не будет'))"
      ],
      "metadata": {
        "colab": {
          "base_uri": "https://localhost:8080/"
        },
        "id": "KvFNKN4ZU2gf",
        "outputId": "41ee3751-1e5a-4545-880a-97f3523363e7"
      },
      "id": "KvFNKN4ZU2gf",
      "execution_count": 33,
      "outputs": [
        {
          "output_type": "stream",
          "name": "stdout",
          "text": [
            "Негативный\n"
          ]
        }
      ]
    },
    {
      "cell_type": "code",
      "source": [
        "print(classifier.predict('Сегодня будет солнечный день'))"
      ],
      "metadata": {
        "colab": {
          "base_uri": "https://localhost:8080/"
        },
        "id": "np-2WkykU2je",
        "outputId": "40a3b5d0-a5cf-40da-d218-1cc06e6ded1f"
      },
      "id": "np-2WkykU2je",
      "execution_count": 34,
      "outputs": [
        {
          "output_type": "stream",
          "name": "stdout",
          "text": [
            "Позитивный\n"
          ]
        }
      ]
    }
  ],
  "metadata": {
    "accelerator": "GPU",
    "colab": {
      "gpuType": "T4",
      "provenance": []
    },
    "kernelspec": {
      "display_name": "Python 3 (ipykernel)",
      "language": "python",
      "name": "python3"
    },
    "language_info": {
      "codemirror_mode": {
        "name": "ipython",
        "version": 3
      },
      "file_extension": ".py",
      "mimetype": "text/x-python",
      "name": "python",
      "nbconvert_exporter": "python",
      "pygments_lexer": "ipython3",
      "version": "3.9.13"
    }
  },
  "nbformat": 4,
  "nbformat_minor": 5
}