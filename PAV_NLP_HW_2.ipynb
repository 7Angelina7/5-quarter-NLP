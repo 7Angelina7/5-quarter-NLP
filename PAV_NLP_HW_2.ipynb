{
 "cells": [
  {
   "cell_type": "code",
   "execution_count": 1,
   "id": "bbf613a8",
   "metadata": {},
   "outputs": [],
   "source": [
    "import numpy as np\n",
    "import pandas as pd\n",
    "import matplotlib.pyplot as plt\n",
    "\n",
    "from sklearn.metrics import *\n",
    "from sklearn.model_selection import train_test_split\n",
    "from sklearn.pipeline import Pipeline\n",
    "\n",
    "from sklearn.linear_model import LogisticRegression \n",
    "from sklearn.feature_extraction.text import CountVectorizer, TfidfVectorizer, HashingVectorizer\n",
    "\n",
    "from string import punctuation\n",
    "from nltk import ngrams\n",
    "import nltk\n",
    "from nltk import collocations \n",
    "from nltk.tokenize import word_tokenize, wordpunct_tokenize\n",
    "from nltk.corpus import stopwords\n",
    "\n",
    "from collections import Counter\n",
    "\n",
    "import time"
   ]
  },
  {
   "cell_type": "code",
   "execution_count": 2,
   "id": "3063bf14",
   "metadata": {},
   "outputs": [],
   "source": [
    "import warnings\n",
    "warnings.filterwarnings(\"ignore\")"
   ]
  },
  {
   "cell_type": "code",
   "execution_count": 3,
   "id": "1704c354",
   "metadata": {},
   "outputs": [
    {
     "data": {
      "text/html": [
       "<div>\n",
       "<style scoped>\n",
       "    .dataframe tbody tr th:only-of-type {\n",
       "        vertical-align: middle;\n",
       "    }\n",
       "\n",
       "    .dataframe tbody tr th {\n",
       "        vertical-align: top;\n",
       "    }\n",
       "\n",
       "    .dataframe thead th {\n",
       "        text-align: right;\n",
       "    }\n",
       "</style>\n",
       "<table border=\"1\" class=\"dataframe\">\n",
       "  <thead>\n",
       "    <tr style=\"text-align: right;\">\n",
       "      <th></th>\n",
       "      <th>text</th>\n",
       "      <th>label</th>\n",
       "    </tr>\n",
       "  </thead>\n",
       "  <tbody>\n",
       "    <tr>\n",
       "      <th>0</th>\n",
       "      <td>@first_timee хоть я и школота, но поверь, у на...</td>\n",
       "      <td>positive</td>\n",
       "    </tr>\n",
       "    <tr>\n",
       "      <th>1</th>\n",
       "      <td>Да, все-таки он немного похож на него. Но мой ...</td>\n",
       "      <td>positive</td>\n",
       "    </tr>\n",
       "    <tr>\n",
       "      <th>2</th>\n",
       "      <td>RT @KatiaCheh: Ну ты идиотка) я испугалась за ...</td>\n",
       "      <td>positive</td>\n",
       "    </tr>\n",
       "    <tr>\n",
       "      <th>3</th>\n",
       "      <td>RT @digger2912: \"Кто то в углу сидит и погибае...</td>\n",
       "      <td>positive</td>\n",
       "    </tr>\n",
       "    <tr>\n",
       "      <th>4</th>\n",
       "      <td>@irina_dyshkant Вот что значит страшилка :D\\nН...</td>\n",
       "      <td>positive</td>\n",
       "    </tr>\n",
       "  </tbody>\n",
       "</table>\n",
       "</div>"
      ],
      "text/plain": [
       "                                                text     label\n",
       "0  @first_timee хоть я и школота, но поверь, у на...  positive\n",
       "1  Да, все-таки он немного похож на него. Но мой ...  positive\n",
       "2  RT @KatiaCheh: Ну ты идиотка) я испугалась за ...  positive\n",
       "3  RT @digger2912: \"Кто то в углу сидит и погибае...  positive\n",
       "4  @irina_dyshkant Вот что значит страшилка :D\\nН...  positive"
      ]
     },
     "execution_count": 3,
     "metadata": {},
     "output_type": "execute_result"
    }
   ],
   "source": [
    "positive = pd.read_csv('C:/Ангелина/Data Sience/5 четверть/Введение в обработку ест языка/2/positive.csv', sep=';', usecols=[3], names=['text'])\n",
    "positive['label'] = ['positive'] * len(positive)\n",
    "negative = pd.read_csv('C:/Ангелина/Data Sience/5 четверть/Введение в обработку ест языка/2/negative.csv', sep=';', usecols=[3], names=['text'])\n",
    "negative['label'] = ['negative'] * len(negative)\n",
    "df = positive.append(negative)\n",
    "df.head()"
   ]
  },
  {
   "cell_type": "code",
   "execution_count": 4,
   "id": "7fd874c0",
   "metadata": {},
   "outputs": [],
   "source": [
    "x_train, x_test, y_train, y_test = train_test_split(df.text, df.label, random_state=42)"
   ]
  },
  {
   "cell_type": "code",
   "execution_count": 5,
   "id": "dd3e65dd",
   "metadata": {},
   "outputs": [
    {
     "name": "stderr",
     "output_type": "stream",
     "text": [
      "[nltk_data] Downloading package genesis to\n",
      "[nltk_data]     C:\\Users\\User\\AppData\\Roaming\\nltk_data...\n",
      "[nltk_data]   Package genesis is already up-to-date!\n",
      "[nltk_data] Downloading package stopwords to\n",
      "[nltk_data]     C:\\Users\\User\\AppData\\Roaming\\nltk_data...\n",
      "[nltk_data]   Package stopwords is already up-to-date!\n",
      "[nltk_data] Downloading package punkt to\n",
      "[nltk_data]     C:\\Users\\User\\AppData\\Roaming\\nltk_data...\n",
      "[nltk_data]   Package punkt is already up-to-date!\n"
     ]
    }
   ],
   "source": [
    "nltk.download('genesis')\n",
    "nltk.download('stopwords')\n",
    "nltk.download('punkt')\n",
    "\n",
    "noise = stopwords.words('russian') + list(punctuation)"
   ]
  },
  {
   "cell_type": "code",
   "execution_count": 6,
   "id": "f54dfc20",
   "metadata": {},
   "outputs": [
    {
     "data": {
      "image/png": "[encoded data removed]",
      "text/plain": [
       "<Figure size 432x288 with 1 Axes>"
      ]
     },
     "metadata": {
      "needs_background": "light"
     },
     "output_type": "display_data"
    }
   ],
   "source": [
    "corpus = [token for tweet in df.text for token in word_tokenize(tweet) if token not in punctuation]\n",
    "freq_dict = Counter(corpus)\n",
    "freq_dict_sorted= sorted(freq_dict.items(), key=lambda x: -x[1])\n",
    "\n",
    "first_100_freqs = [freq for word, freq in freq_dict_sorted[:100]]\n",
    "plt.plot(first_100_freqs)\n",
    "plt.show()"
   ]
  },
  {
   "cell_type": "markdown",
   "id": "d22d7253",
   "metadata": {},
   "source": [
    "### Задание 1.\n",
    "\n",
    "**Задание**: обучите три классификатора: \n",
    "\n",
    "1) на токенах с высокой частотой \n",
    "\n",
    "2) на токенах со средней частотой \n",
    "\n",
    "3) на токенах с низкой частотой\n",
    "\n",
    "\n",
    "Сравните полученные результаты, оцените какие токены наиболее важные для классификации."
   ]
  },
  {
   "cell_type": "code",
   "execution_count": 7,
   "id": "3fd0c4c8",
   "metadata": {},
   "outputs": [
    {
     "name": "stdout",
     "output_type": "stream",
     "text": [
      "['не', 'и', 'в', 'я', 'RT', 'на', 'http', 'что', 'с', 'а', '...', 'меня', 'у', 'как', 'так', 'D', 'это', 'мне', 'все', 'ты', 'но', \"''\", 'Я', '``', 'то', '..', 'по', 'уже', 'за', 'же', 'ну', 'А', 'только', 'бы', 'еще', 'да', 'вот', 'тебя', 'нет', 'когда']\n"
     ]
    }
   ],
   "source": [
    "# Отсечки по частотности\n",
    "high = 40\n",
    "low = 200\n",
    "\n",
    "high_freq = [token[0] for token in freq_dict_sorted[:high]]\n",
    "medium_freq = [token[0] for token in freq_dict_sorted[high:low]]\n",
    "low_freq = [token[0] for token in freq_dict_sorted[low:]]\n",
    "\n",
    "print(high_freq)"
   ]
  },
  {
   "cell_type": "code",
   "execution_count": 8,
   "id": "1c4916bb",
   "metadata": {},
   "outputs": [],
   "source": [
    "def train_lr(stop_words):\n",
    "    vec = CountVectorizer(ngram_range=(1, 1), tokenizer=word_tokenize, stop_words=stop_words)\n",
    "    bow = vec.fit_transform(x_train) \n",
    "    lr = LogisticRegression(random_state=42, max_iter=500)\n",
    "    lr.fit(bow, y_train)\n",
    "    pred = lr.predict(vec.transform(x_test))\n",
    "\n",
    "    return pred"
   ]
  },
  {
   "cell_type": "code",
   "execution_count": 9,
   "id": "2148364c",
   "metadata": {},
   "outputs": [
    {
     "name": "stdout",
     "output_type": "stream",
     "text": [
      "High:\n",
      "              precision    recall  f1-score   support\n",
      "\n",
      "    negative       0.80      0.58      0.67     38970\n",
      "    positive       0.42      0.68      0.52     17739\n",
      "\n",
      "    accuracy                           0.61     56709\n",
      "   macro avg       0.61      0.63      0.60     56709\n",
      "weighted avg       0.68      0.61      0.62     56709\n",
      "\n",
      "\n",
      "Medium:\n",
      "              precision    recall  f1-score   support\n",
      "\n",
      "    negative       0.43      0.65      0.52     18531\n",
      "    positive       0.77      0.58      0.66     38178\n",
      "\n",
      "    accuracy                           0.60     56709\n",
      "   macro avg       0.60      0.62      0.59     56709\n",
      "weighted avg       0.66      0.60      0.62     56709\n",
      "\n",
      "\n",
      "Low:\n",
      "              precision    recall  f1-score   support\n",
      "\n",
      "    negative       0.80      0.75      0.77     29963\n",
      "    positive       0.74      0.79      0.76     26746\n",
      "\n",
      "    accuracy                           0.77     56709\n",
      "   macro avg       0.77      0.77      0.77     56709\n",
      "weighted avg       0.77      0.77      0.77     56709\n",
      "\n",
      "\n",
      "Wall time: 3min 34s\n"
     ]
    }
   ],
   "source": [
    "%%time\n",
    "\n",
    "labels = ['High:', 'Medium:', 'Low:']\n",
    "params = [noise+medium_freq+low_freq,\n",
    "          noise+high_freq+low_freq,\n",
    "          noise+high_freq+medium_freq]\n",
    "\n",
    "for label, param in zip(labels, params):\n",
    "    pred = train_lr(param)\n",
    "    print(label, classification_report(pred, y_test), sep='\\n')\n",
    "    print('')"
   ]
  },
  {
   "cell_type": "markdown",
   "id": "7a6c4c84",
   "metadata": {},
   "source": [
    "__Вывод:__ Обучение на словах имеющих низкую частотность даёт лучшие результаты"
   ]
  },
  {
   "cell_type": "markdown",
   "id": "5d38119a",
   "metadata": {},
   "source": [
    "### Задание 2.\n",
    "\n",
    "найти фичи с наибольшей значимостью, и вывести их"
   ]
  },
  {
   "cell_type": "code",
   "execution_count": 10,
   "id": "b8785ddb",
   "metadata": {},
   "outputs": [
    {
     "name": "stdout",
     "output_type": "stream",
     "text": [
      "              precision    recall  f1-score   support\n",
      "\n",
      "    negative       1.00      1.00      1.00     28104\n",
      "    positive       1.00      1.00      1.00     28605\n",
      "\n",
      "    accuracy                           1.00     56709\n",
      "   macro avg       1.00      1.00      1.00     56709\n",
      "weighted avg       1.00      1.00      1.00     56709\n",
      "\n"
     ]
    }
   ],
   "source": [
    "stop_words = stopwords.words('russian')\n",
    "vec = CountVectorizer(ngram_range=(1, 1), tokenizer=word_tokenize, stop_words=stop_words)\n",
    "bow = vec.fit_transform(x_train) \n",
    "lr = LogisticRegression(random_state=42, max_iter=500)\n",
    "lr.fit(bow, y_train)\n",
    "pred = lr.predict(vec.transform(x_test))\n",
    "print(classification_report(pred, y_test))"
   ]
  },
  {
   "cell_type": "code",
   "execution_count": 11,
   "id": "7677c9b2",
   "metadata": {},
   "outputs": [
    {
     "name": "stdout",
     "output_type": "stream",
     "text": [
      "1) (\n",
      "2) )\n",
      "3) d\n",
      "4) ^_^\n",
      "5) |\n",
      "6) -/\n",
      "7) dd\n",
      "8) о_о\n",
      "9) ddd\n",
      "10) o_o\n",
      "11) do_or_die_xxx\n",
      "12) to_over_kill\n",
      "13) -d\n",
      "14) dddd\n",
      "15) белый\n",
      "16) horanso_on\n",
      "17) ddddd\n",
      "18) reno_oppa\n",
      "19) cio_optimal\n",
      "20) prisonero_o\n",
      "21) *\n",
      "22) rt\n",
      "23) _do_or_die__\n",
      "24) :\n",
      "25) =^_^=\n",
      "26) alekseevao_o\n",
      "27) kota_oo_oo\n",
      "28) lponomarenko_o\n",
      "29) do_or_pie_\n",
      "30) http\n",
      "31) dddddd\n",
      "32) radio_of_moon\n",
      "33) july_to_october\n",
      "34) o_obnulyay\n",
      "35) mo_onmery\n",
      "36) boo_ohoo\n",
      "37) leto_on_mars\n",
      "38) ||\n",
      "39) з\n",
      "40) o_olshik\n"
     ]
    }
   ],
   "source": [
    "# Выведем 40 важнейших признаков\n",
    "feat_importance = list(zip(vec.get_feature_names(), lr.coef_[0]))\n",
    "feat_importance = sorted(feat_importance, key=lambda x: abs(x[1]), reverse=True)[:40]\n",
    "\n",
    "for i, feat in enumerate(feat_importance):\n",
    "    print(f'{i+1}) {feat[0]}')"
   ]
  },
  {
   "cell_type": "markdown",
   "id": "c651c6b8",
   "metadata": {},
   "source": [
    "Из списка выше видно, что наиболее значимыми фичами являются части смайликов."
   ]
  },
  {
   "cell_type": "markdown",
   "id": "d308b115",
   "metadata": {},
   "source": [
    "### Задание 3.\n",
    "\n",
    "1) сравнить count/tf-idf/hashing векторайзеры/полносвязанную сетку (построить classification_report)\n",
    "\n",
    "2) подобрать оптимальный размер для hashing векторайзера \n",
    "\n",
    "3) убедиться что для сетки нет переобучения"
   ]
  },
  {
   "cell_type": "code",
   "execution_count": 12,
   "id": "b2012345",
   "metadata": {
    "scrolled": false
   },
   "outputs": [
    {
     "name": "stdout",
     "output_type": "stream",
     "text": [
      "Count (59 sec)\n",
      "              precision    recall  f1-score   support\n",
      "\n",
      "    negative       0.80      0.75      0.77     29963\n",
      "    positive       0.74      0.79      0.76     26746\n",
      "\n",
      "    accuracy                           0.77     56709\n",
      "   macro avg       0.77      0.77      0.77     56709\n",
      "weighted avg       0.77      0.77      0.77     56709\n",
      "\n",
      "\n",
      "\n",
      "TF-IDF (51 sec)\n",
      "              precision    recall  f1-score   support\n",
      "\n",
      "    negative       0.76      0.76      0.76     27849\n",
      "    positive       0.77      0.76      0.76     28860\n",
      "\n",
      "    accuracy                           0.76     56709\n",
      "   macro avg       0.76      0.76      0.76     56709\n",
      "weighted avg       0.76      0.76      0.76     56709\n",
      "\n",
      "\n",
      "\n",
      "Hashing (1024) (5 sec)\n",
      "              precision    recall  f1-score   support\n",
      "\n",
      "    negative       0.63      0.65      0.64     27165\n",
      "    positive       0.67      0.65      0.66     29544\n",
      "\n",
      "    accuracy                           0.65     56709\n",
      "   macro avg       0.65      0.65      0.65     56709\n",
      "weighted avg       0.65      0.65      0.65     56709\n",
      "\n",
      "\n",
      "\n",
      "Hashing (2048) (7 sec)\n",
      "              precision    recall  f1-score   support\n",
      "\n",
      "    negative       0.66      0.67      0.66     27311\n",
      "    positive       0.69      0.67      0.68     29398\n",
      "\n",
      "    accuracy                           0.67     56709\n",
      "   macro avg       0.67      0.67      0.67     56709\n",
      "weighted avg       0.67      0.67      0.67     56709\n",
      "\n",
      "\n",
      "\n",
      "Hashing (3072) (7 sec)\n",
      "              precision    recall  f1-score   support\n",
      "\n",
      "    negative       0.67      0.69      0.68     27313\n",
      "    positive       0.70      0.68      0.69     29396\n",
      "\n",
      "    accuracy                           0.68     56709\n",
      "   macro avg       0.68      0.68      0.68     56709\n",
      "weighted avg       0.69      0.68      0.68     56709\n",
      "\n",
      "\n",
      "\n",
      "Hashing (4096) (8 sec)\n",
      "              precision    recall  f1-score   support\n",
      "\n",
      "    negative       0.67      0.69      0.68     27201\n",
      "    positive       0.71      0.69      0.70     29508\n",
      "\n",
      "    accuracy                           0.69     56709\n",
      "   macro avg       0.69      0.69      0.69     56709\n",
      "weighted avg       0.69      0.69      0.69     56709\n",
      "\n",
      "\n",
      "\n",
      "Hashing (5120) (8 sec)\n",
      "              precision    recall  f1-score   support\n",
      "\n",
      "    negative       0.68      0.71      0.69     27204\n",
      "    positive       0.72      0.70      0.71     29505\n",
      "\n",
      "    accuracy                           0.70     56709\n",
      "   macro avg       0.70      0.70      0.70     56709\n",
      "weighted avg       0.70      0.70      0.70     56709\n",
      "\n",
      "\n",
      "\n",
      "Hashing (6144) (8 sec)\n",
      "              precision    recall  f1-score   support\n",
      "\n",
      "    negative       0.68      0.70      0.69     27424\n",
      "    positive       0.71      0.70      0.71     29285\n",
      "\n",
      "    accuracy                           0.70     56709\n",
      "   macro avg       0.70      0.70      0.70     56709\n",
      "weighted avg       0.70      0.70      0.70     56709\n",
      "\n",
      "\n",
      "\n",
      "Hashing (7168) (9 sec)\n",
      "              precision    recall  f1-score   support\n",
      "\n",
      "    negative       0.69      0.71      0.70     27346\n",
      "    positive       0.72      0.70      0.71     29363\n",
      "\n",
      "    accuracy                           0.70     56709\n",
      "   macro avg       0.70      0.70      0.70     56709\n",
      "weighted avg       0.70      0.70      0.70     56709\n",
      "\n",
      "\n",
      "\n",
      "Hashing (8192) (8 sec)\n",
      "              precision    recall  f1-score   support\n",
      "\n",
      "    negative       0.69      0.71      0.70     27223\n",
      "    positive       0.73      0.71      0.72     29486\n",
      "\n",
      "    accuracy                           0.71     56709\n",
      "   macro avg       0.71      0.71      0.71     56709\n",
      "weighted avg       0.71      0.71      0.71     56709\n",
      "\n",
      "\n",
      "\n",
      "Hashing (9216) (9 sec)\n",
      "              precision    recall  f1-score   support\n",
      "\n",
      "    negative       0.69      0.72      0.71     27194\n",
      "    positive       0.73      0.71      0.72     29515\n",
      "\n",
      "    accuracy                           0.71     56709\n",
      "   macro avg       0.71      0.71      0.71     56709\n",
      "weighted avg       0.71      0.71      0.71     56709\n",
      "\n",
      "\n",
      "\n",
      "Hashing (10240) (11 sec)\n",
      "              precision    recall  f1-score   support\n",
      "\n",
      "    negative       0.69      0.72      0.71     27170\n",
      "    positive       0.73      0.71      0.72     29539\n",
      "\n",
      "    accuracy                           0.71     56709\n",
      "   macro avg       0.71      0.71      0.71     56709\n",
      "weighted avg       0.71      0.71      0.71     56709\n",
      "\n",
      "\n",
      "\n"
     ]
    }
   ],
   "source": [
    "stop_words = noise+high_freq+medium_freq \n",
    "\n",
    "params = [\n",
    "    ('Count', CountVectorizer(ngram_range=(1, 1), tokenizer=word_tokenize, stop_words=stop_words)),\n",
    "    ('TF-IDF', TfidfVectorizer(ngram_range=(1, 1), tokenizer=word_tokenize, stop_words=stop_words))\n",
    "]\n",
    "\n",
    "for i in range(1024, 10240+1, 1024):\n",
    "    params.append((f'Hashing ({i})', HashingVectorizer(n_features=i)))\n",
    "\n",
    "for label, vectorizer in params:\n",
    "    start_time = time.time()\n",
    "\n",
    "    bow = vectorizer.fit_transform(x_train) \n",
    "    lr = LogisticRegression(random_state=42, max_iter=500)\n",
    "    lr.fit(bow, y_train)\n",
    "    pred = lr.predict(vectorizer.transform(x_test))\n",
    "    print(f'{label} ({round(time.time() - start_time)} sec)',\n",
    "          classification_report(pred, y_test),\n",
    "          sep='\\n')\n",
    "\n",
    "    print('\\n')"
   ]
  },
  {
   "cell_type": "markdown",
   "id": "19dd1fdd",
   "metadata": {},
   "source": [
    "В данном случае CountVectorizer показал лучшие результаты.<br>\n",
    "HashingVectorizer работает значительно быстрее остальных, однако предсказывает он хуже.<br>\n",
    "Оптимальный размер для HashingVectorizer: 10240"
   ]
  }
 ],
 "metadata": {
  "kernelspec": {
   "display_name": "Python 3 (ipykernel)",
   "language": "python",
   "name": "python3"
  },
  "language_info": {
   "codemirror_mode": {
    "name": "ipython",
    "version": 3
   },
   "file_extension": ".py",
   "mimetype": "text/x-python",
   "name": "python",
   "nbconvert_exporter": "python",
   "pygments_lexer": "ipython3",
   "version": "3.9.7"
  }
 },
 "nbformat": 4,
 "nbformat_minor": 5
}
