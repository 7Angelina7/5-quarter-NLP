{
 "cells": [
  {
   "cell_type": "markdown",
   "id": "f9b01c68",
   "metadata": {
    "id": "f9b01c68"
   },
   "source": [
    "# Рекуррентные нейронные сети RNN LSTM GRU"
   ]
  },
  {
   "cell_type": "code",
   "execution_count": 1,
   "id": "Lx2omBoMpOl_",
   "metadata": {
    "colab": {
     "base_uri": "https://localhost:8080/"
    },
    "id": "Lx2omBoMpOl_",
    "outputId": "ee593cfb-7dca-41cd-d084-76be9ac3a669"
   },
   "outputs": [
    {
     "name": "stdout",
     "output_type": "stream",
     "text": [
      "Requirement already satisfied: stop_words in c:\\users\\user\\anaconda3\\lib\\site-packages (2018.7.23)"
     ]
    },
    {
     "name": "stderr",
     "output_type": "stream",
     "text": [
      "WARNING: Ignoring invalid distribution -umpy (c:\\users\\user\\anaconda3\\lib\\site-packages)\n",
      "WARNING: Ignoring invalid distribution -umpy (c:\\users\\user\\anaconda3\\lib\\site-packages)\n",
      "WARNING: Ignoring invalid distribution -umpy (c:\\users\\user\\anaconda3\\lib\\site-packages)\n",
      "WARNING: Ignoring invalid distribution -umpy (c:\\users\\user\\anaconda3\\lib\\site-packages)\n",
      "WARNING: Ignoring invalid distribution -umpy (c:\\users\\user\\anaconda3\\lib\\site-packages)\n",
      "WARNING: Ignoring invalid distribution -umpy (c:\\users\\user\\anaconda3\\lib\\site-packages)\n"
     ]
    },
    {
     "name": "stdout",
     "output_type": "stream",
     "text": [
      "\n",
      "Requirement already satisfied: pymorphy2 in c:\\users\\user\\anaconda3\\lib\\site-packages (0.9.1)\n",
      "Requirement already satisfied: docopt>=0.6 in c:\\users\\user\\anaconda3\\lib\\site-packages (from pymorphy2) (0.6.2)\n",
      "Requirement already satisfied: dawg-python>=0.7.1 in c:\\users\\user\\anaconda3\\lib\\site-packages (from pymorphy2) (0.7.2)\n",
      "Requirement already satisfied: pymorphy2-dicts-ru<3.0,>=2.4 in c:\\users\\user\\anaconda3\\lib\\site-packages (from pymorphy2) (2.4.417127.4579844)\n"
     ]
    },
    {
     "name": "stderr",
     "output_type": "stream",
     "text": [
      "WARNING: Ignoring invalid distribution -umpy (c:\\users\\user\\anaconda3\\lib\\site-packages)\n",
      "WARNING: Ignoring invalid distribution -umpy (c:\\users\\user\\anaconda3\\lib\\site-packages)\n",
      "WARNING: Ignoring invalid distribution -umpy (c:\\users\\user\\anaconda3\\lib\\site-packages)\n",
      "WARNING: Ignoring invalid distribution -umpy (c:\\users\\user\\anaconda3\\lib\\site-packages)\n",
      "WARNING: Ignoring invalid distribution -umpy (c:\\users\\user\\anaconda3\\lib\\site-packages)\n",
      "WARNING: Ignoring invalid distribution -umpy (c:\\users\\user\\anaconda3\\lib\\site-packages)\n"
     ]
    }
   ],
   "source": [
    "!pip install stop_words\n",
    "!pip install pymorphy2"
   ]
  },
  {
   "cell_type": "markdown",
   "id": "2c76a6d4",
   "metadata": {
    "id": "2c76a6d4"
   },
   "source": [
    "## Импорты"
   ]
  },
  {
   "cell_type": "code",
   "execution_count": 2,
   "id": "4a2f7ece",
   "metadata": {
    "id": "4a2f7ece"
   },
   "outputs": [
    {
     "name": "stderr",
     "output_type": "stream",
     "text": [
      "C:\\Users\\User\\anaconda3\\lib\\site-packages\\scipy\\__init__.py:146: UserWarning: A NumPy version >=1.16.5 and <1.23.0 is required for this version of SciPy (detected version 1.26.1\n",
      "  warnings.warn(f\"A NumPy version >={np_minversion} and <{np_maxversion}\"\n"
     ]
    }
   ],
   "source": [
    "import re\n",
    "import gensim\n",
    "import numpy as np\n",
    "import pandas as pd\n",
    "from tqdm import tqdm\n",
    "from string import punctuation\n",
    "from functools import lru_cache\n",
    "\n",
    "from stop_words import get_stop_words\n",
    "from pymorphy2 import MorphAnalyzer\n",
    "\n",
    "import keras\n",
    "from keras.models import Sequential\n",
    "from keras.preprocessing.text import Tokenizer\n",
    "from keras.utils import pad_sequences\n",
    "from keras.layers import Dense, Dropout, Activation, Input, Embedding\n",
    "from keras.layers import Conv1D, GlobalMaxPool1D, SimpleRNN, LSTM, GRU, Masking\n",
    "from keras.callbacks import EarlyStopping"
   ]
  },
  {
   "cell_type": "markdown",
   "id": "01fdf1db",
   "metadata": {
    "id": "01fdf1db"
   },
   "source": [
    "## Настройки"
   ]
  },
  {
   "cell_type": "code",
   "execution_count": 3,
   "id": "FBQRIGJnqCLY",
   "metadata": {
    "colab": {
     "base_uri": "https://localhost:8080/"
    },
    "id": "FBQRIGJnqCLY",
    "outputId": "ce52b62d-45cd-4775-f9d6-c50b4c593c19"
   },
   "outputs": [
    {
     "data": {
      "text/plain": [
       "[PhysicalDevice(name='/physical_device:CPU:0', device_type='CPU')]"
      ]
     },
     "execution_count": 3,
     "metadata": {},
     "output_type": "execute_result"
    }
   ],
   "source": [
    "import tensorflow as tf\n",
    "tf.config.list_physical_devices('CPU')"
   ]
  },
  {
   "cell_type": "code",
   "execution_count": 4,
   "id": "db90236e",
   "metadata": {
    "id": "db90236e"
   },
   "outputs": [],
   "source": [
    "EPOCHS = 10\n",
    "BATCH_SIZE = 256\n",
    "\n",
    "tqdm.pandas()"
   ]
  },
  {
   "cell_type": "markdown",
   "id": "59718e03",
   "metadata": {
    "id": "59718e03"
   },
   "source": [
    "## Загрузка данных"
   ]
  },
  {
   "cell_type": "code",
   "execution_count": 5,
   "id": "77e9d749",
   "metadata": {
    "id": "77e9d749"
   },
   "outputs": [],
   "source": [
    "df_train = pd.read_csv(\"C:/Ангелина/Data Sience/5 четверть/Введение в обработку ест языка/8/lection8/data/train.csv\")\n",
    "df_test = pd.read_csv(\"C:/Ангелина/Data Sience/5 четверть/Введение в обработку ест языка/8/lection8/data/test.csv\")\n",
    "df_val = pd.read_csv(\"C:/Ангелина/Data Sience/5 четверть/Введение в обработку ест языка/8/lection8/data/val.csv\")"
   ]
  },
  {
   "cell_type": "code",
   "execution_count": 6,
   "id": "01d4359b",
   "metadata": {
    "colab": {
     "base_uri": "https://localhost:8080/",
     "height": 206
    },
    "id": "01d4359b",
    "outputId": "64fe57a0-83dd-4f9b-d9f9-89499ae5ed2d"
   },
   "outputs": [
    {
     "data": {
      "text/html": [
       "<div>\n",
       "<style scoped>\n",
       "    .dataframe tbody tr th:only-of-type {\n",
       "        vertical-align: middle;\n",
       "    }\n",
       "\n",
       "    .dataframe tbody tr th {\n",
       "        vertical-align: top;\n",
       "    }\n",
       "\n",
       "    .dataframe thead th {\n",
       "        text-align: right;\n",
       "    }\n",
       "</style>\n",
       "<table border=\"1\" class=\"dataframe\">\n",
       "  <thead>\n",
       "    <tr style=\"text-align: right;\">\n",
       "      <th></th>\n",
       "      <th>id</th>\n",
       "      <th>text</th>\n",
       "      <th>class</th>\n",
       "    </tr>\n",
       "  </thead>\n",
       "  <tbody>\n",
       "    <tr>\n",
       "      <th>0</th>\n",
       "      <td>0</td>\n",
       "      <td>@alisachachka не уезжаааааааай. :(❤ я тоже не ...</td>\n",
       "      <td>0</td>\n",
       "    </tr>\n",
       "    <tr>\n",
       "      <th>1</th>\n",
       "      <td>1</td>\n",
       "      <td>RT @GalyginVadim: Ребята и девчата!\\nВсе в кин...</td>\n",
       "      <td>1</td>\n",
       "    </tr>\n",
       "    <tr>\n",
       "      <th>2</th>\n",
       "      <td>2</td>\n",
       "      <td>RT @ARTEM_KLYUSHIN: Кто ненавидит пробки ретви...</td>\n",
       "      <td>0</td>\n",
       "    </tr>\n",
       "    <tr>\n",
       "      <th>3</th>\n",
       "      <td>3</td>\n",
       "      <td>RT @epupybobv: Хочется котлету по-киевски. Зап...</td>\n",
       "      <td>1</td>\n",
       "    </tr>\n",
       "    <tr>\n",
       "      <th>4</th>\n",
       "      <td>4</td>\n",
       "      <td>@KarineKurganova @Yess__Boss босапопа есбоса н...</td>\n",
       "      <td>1</td>\n",
       "    </tr>\n",
       "  </tbody>\n",
       "</table>\n",
       "</div>"
      ],
      "text/plain": [
       "   id                                               text  class\n",
       "0   0  @alisachachka не уезжаааааааай. :(❤ я тоже не ...      0\n",
       "1   1  RT @GalyginVadim: Ребята и девчата!\\nВсе в кин...      1\n",
       "2   2  RT @ARTEM_KLYUSHIN: Кто ненавидит пробки ретви...      0\n",
       "3   3  RT @epupybobv: Хочется котлету по-киевски. Зап...      1\n",
       "4   4  @KarineKurganova @Yess__Boss босапопа есбоса н...      1"
      ]
     },
     "execution_count": 6,
     "metadata": {},
     "output_type": "execute_result"
    }
   ],
   "source": [
    "df_train.head()"
   ]
  },
  {
   "cell_type": "markdown",
   "id": "db4c238a",
   "metadata": {
    "id": "db4c238a"
   },
   "source": [
    "## Предобработка текста"
   ]
  },
  {
   "cell_type": "code",
   "execution_count": 7,
   "id": "def9c0d7",
   "metadata": {
    "id": "def9c0d7"
   },
   "outputs": [],
   "source": [
    "stop_words = set(get_stop_words('ru')) - {'не', 'ни', 'нет'}\n",
    "exclude = set(punctuation)\n",
    "morpher = MorphAnalyzer()\n",
    "\n",
    "@lru_cache(None)\n",
    "def lemmatize(word):\n",
    "    return morpher.parse(word)[0].normal_form\n",
    "\n",
    "def preprocess_text(text):\n",
    "    text = str(text)\n",
    "    text.lower()\n",
    "    text = re.sub(r'@\\S+|\\sRT\\s', ' ', ' '+text+' ').strip()\n",
    "    text = re.sub(r'(не|ни|нет)\\s+', 'не', text)\n",
    "    \n",
    "    for char in exclude:\n",
    "        text = text.replace(char, ' ')\n",
    "\n",
    "    words = [word for word in text.split() if word not in stop_words]\n",
    "    words = [word for word in words if len(word) >= 2]\n",
    "    words = [lemmatize(word) for word in words]\n",
    "    return ' '.join(words)"
   ]
  },
  {
   "cell_type": "code",
   "execution_count": 8,
   "id": "b29478ec",
   "metadata": {
    "colab": {
     "base_uri": "https://localhost:8080/",
     "height": 258
    },
    "id": "b29478ec",
    "outputId": "5e5f510c-705e-4688-9803-c8393319d25a"
   },
   "outputs": [
    {
     "name": "stderr",
     "output_type": "stream",
     "text": [
      "100%|████████████████████████████████████████████████████████████████████████| 181467/181467 [00:47<00:00, 3803.50it/s]\n",
      "100%|██████████████████████████████████████████████████████████████████████████| 22683/22683 [00:04<00:00, 4545.67it/s]\n",
      "100%|██████████████████████████████████████████████████████████████████████████| 22684/22684 [00:04<00:00, 5358.33it/s]\n"
     ]
    },
    {
     "data": {
      "text/html": [
       "<div>\n",
       "<style scoped>\n",
       "    .dataframe tbody tr th:only-of-type {\n",
       "        vertical-align: middle;\n",
       "    }\n",
       "\n",
       "    .dataframe tbody tr th {\n",
       "        vertical-align: top;\n",
       "    }\n",
       "\n",
       "    .dataframe thead th {\n",
       "        text-align: right;\n",
       "    }\n",
       "</style>\n",
       "<table border=\"1\" class=\"dataframe\">\n",
       "  <thead>\n",
       "    <tr style=\"text-align: right;\">\n",
       "      <th></th>\n",
       "      <th>id</th>\n",
       "      <th>text</th>\n",
       "      <th>class</th>\n",
       "    </tr>\n",
       "  </thead>\n",
       "  <tbody>\n",
       "    <tr>\n",
       "      <th>0</th>\n",
       "      <td>0</td>\n",
       "      <td>неуезжаааааааать нехотеть уезжать</td>\n",
       "      <td>0</td>\n",
       "    </tr>\n",
       "    <tr>\n",
       "      <th>1</th>\n",
       "      <td>1</td>\n",
       "      <td>ребята девчата всё кино вот это любовь сегодня...</td>\n",
       "      <td>1</td>\n",
       "    </tr>\n",
       "    <tr>\n",
       "      <th>2</th>\n",
       "      <td>2</td>\n",
       "      <td>кто ненавидеть пробка ретвит</td>\n",
       "      <td>0</td>\n",
       "    </tr>\n",
       "    <tr>\n",
       "      <th>3</th>\n",
       "      <td>3</td>\n",
       "      <td>хотеться котлета киевск запретный плод</td>\n",
       "      <td>1</td>\n",
       "    </tr>\n",
       "    <tr>\n",
       "      <th>4</th>\n",
       "      <td>4</td>\n",
       "      <td>босапоп есбосой небояться мороз</td>\n",
       "      <td>1</td>\n",
       "    </tr>\n",
       "  </tbody>\n",
       "</table>\n",
       "</div>"
      ],
      "text/plain": [
       "   id                                               text  class\n",
       "0   0                  неуезжаааааааать нехотеть уезжать      0\n",
       "1   1  ребята девчата всё кино вот это любовь сегодня...      1\n",
       "2   2                       кто ненавидеть пробка ретвит      0\n",
       "3   3             хотеться котлета киевск запретный плод      1\n",
       "4   4                    босапоп есбосой небояться мороз      1"
      ]
     },
     "execution_count": 8,
     "metadata": {},
     "output_type": "execute_result"
    }
   ],
   "source": [
    "df_train['text'] = df_train['text'].progress_apply(preprocess_text)\n",
    "df_val['text'] = df_val['text'].progress_apply(preprocess_text)\n",
    "df_test['text'] = df_test['text'].progress_apply(preprocess_text)\n",
    "df_train.head()"
   ]
  },
  {
   "cell_type": "code",
   "execution_count": 9,
   "id": "7ce0a3e4",
   "metadata": {},
   "outputs": [],
   "source": [
    "#df_val['text'] = df_val['text'].progress_apply(preprocess_text)"
   ]
  },
  {
   "cell_type": "code",
   "execution_count": 10,
   "id": "8b8644d5",
   "metadata": {
    "id": "8b8644d5"
   },
   "outputs": [],
   "source": [
    "text_corpus_train = df_train['text'].values\n",
    "text_corpus_valid = df_val['text'].values\n",
    "text_corpus_test = df_test['text'].values"
   ]
  },
  {
   "cell_type": "code",
   "execution_count": 11,
   "id": "0430ad93",
   "metadata": {
    "id": "0430ad93"
   },
   "outputs": [],
   "source": [
    "tokenizer = Tokenizer(num_words=None, \n",
    "                      filters='#$%&()*+-<=>@[\\\\]^_`{|}~\\t\\n',\n",
    "                      lower = False,\n",
    "                      split = ' ')\n",
    "\n",
    "tokenizer.fit_on_texts(text_corpus_train)\n",
    "\n",
    "sequences_train = tokenizer.texts_to_sequences(text_corpus_train)\n",
    "sequences_val = tokenizer.texts_to_sequences(text_corpus_valid)\n",
    "sequences_test = tokenizer.texts_to_sequences(text_corpus_test)\n",
    "\n",
    "word_count = len(tokenizer.index_word) + 1\n",
    "training_length = max([len(i.split()) for i in text_corpus_train])"
   ]
  },
  {
   "cell_type": "code",
   "execution_count": 12,
   "id": "357add98",
   "metadata": {
    "id": "357add98"
   },
   "outputs": [],
   "source": [
    "X_train = pad_sequences(sequences_train, maxlen=training_length)\n",
    "X_valid = pad_sequences(sequences_val, maxlen=training_length)\n",
    "\n",
    "y_train = df_train['class'].values\n",
    "y_val = df_val['class'].values"
   ]
  },
  {
   "cell_type": "markdown",
   "id": "2c88bb20",
   "metadata": {
    "id": "2c88bb20"
   },
   "source": [
    "## На вебинаре мы говорили, что долгое время CNN и RNN архитектуры были конкурируещими. Выяснить, какая архитектура больше подходит для задачи сантимент анализа на данных с вебинара."
   ]
  },
  {
   "cell_type": "code",
   "execution_count": 13,
   "id": "eaed678b",
   "metadata": {
    "id": "eaed678b"
   },
   "outputs": [],
   "source": [
    "def make_model(*layers):\n",
    "    model = Sequential()\n",
    "    model.add(Embedding(input_dim=word_count,\n",
    "                        input_length=training_length,\n",
    "                        output_dim=128,\n",
    "                        trainable=True,\n",
    "                        mask_zero=True))\n",
    "\n",
    "    model.add(Masking(mask_value=0.0))\n",
    "    for layer in layers:\n",
    "        model.add(layer)\n",
    "    \n",
    "    model.add(Dense(8, activation='relu'))\n",
    "    model.add(Dropout(0.5))\n",
    "    model.add(Dense(1, activation='sigmoid'))\n",
    "    model.compile(optimizer='adam', loss='binary_crossentropy', metrics=['accuracy'])\n",
    "    \n",
    "    return model\n",
    "\n",
    "def train_model(model):\n",
    "    early_stopping=EarlyStopping(monitor='val_loss') \n",
    "    history = model.fit(X_train, \n",
    "                        y_train, \n",
    "                        batch_size=BATCH_SIZE, \n",
    "                        epochs=EPOCHS, \n",
    "                        verbose=1, \n",
    "                        validation_split=0.1, \n",
    "                        callbacks=[early_stopping])\n",
    "    \n",
    "    score = model.evaluate(X_valid, y_val, batch_size=BATCH_SIZE, verbose=1)\n",
    "    print('\\n')\n",
    "    print('Test loss:', score[0])\n",
    "    print('Test accuracy:', score[1])\n",
    "    \n",
    "    return history"
   ]
  },
  {
   "cell_type": "markdown",
   "id": "0aa630e0",
   "metadata": {
    "id": "0aa630e0"
   },
   "source": [
    "## 1. построить свёрточные архитектуры"
   ]
  },
  {
   "cell_type": "code",
   "execution_count": 14,
   "id": "30b75ee3",
   "metadata": {
    "colab": {
     "base_uri": "https://localhost:8080/"
    },
    "id": "30b75ee3",
    "outputId": "d2f7fe77-0765-49e9-9ac2-71cda12d7931"
   },
   "outputs": [
    {
     "name": "stdout",
     "output_type": "stream",
     "text": [
      "Epoch 1/10\n",
      "638/638 [==============================] - 113s 176ms/step - loss: 0.5852 - accuracy: 0.6824 - val_loss: 0.5159 - val_accuracy: 0.7395\n",
      "Epoch 2/10\n",
      "638/638 [==============================] - 116s 182ms/step - loss: 0.4350 - accuracy: 0.7998 - val_loss: 0.5241 - val_accuracy: 0.7365\n",
      "89/89 [==============================] - 1s 8ms/step - loss: 0.5372 - accuracy: 0.7341\n",
      "\n",
      "\n",
      "Test loss: 0.5372116565704346\n",
      "Test accuracy: 0.7340739965438843\n"
     ]
    },
    {
     "data": {
      "text/plain": [
       "<keras.callbacks.History at 0x1e6801d2820>"
      ]
     },
     "execution_count": 14,
     "metadata": {},
     "output_type": "execute_result"
    }
   ],
   "source": [
    "model = make_model(Conv1D(128, 3),\n",
    "                   Activation(\"relu\"),\n",
    "                   GlobalMaxPool1D())\n",
    "\n",
    "train_model(model)"
   ]
  },
  {
   "cell_type": "markdown",
   "id": "8764186c",
   "metadata": {
    "id": "8764186c"
   },
   "source": [
    "## 2. построить различные архитектуры с RNN"
   ]
  },
  {
   "cell_type": "code",
   "execution_count": 15,
   "id": "ScYN8zkOsqUW",
   "metadata": {
    "colab": {
     "base_uri": "https://localhost:8080/"
    },
    "id": "ScYN8zkOsqUW",
    "outputId": "6d84fdbe-9f20-4ebd-9bd0-5740eb088a00"
   },
   "outputs": [
    {
     "name": "stdout",
     "output_type": "stream",
     "text": [
      "Epoch 1/10\n",
      "638/638 [==============================] - 120s 185ms/step - loss: 0.5920 - accuracy: 0.6728 - val_loss: 0.5185 - val_accuracy: 0.7400\n",
      "Epoch 2/10\n",
      "638/638 [==============================] - 120s 188ms/step - loss: 0.4195 - accuracy: 0.8071 - val_loss: 0.5527 - val_accuracy: 0.7303\n",
      "89/89 [==============================] - 1s 12ms/step - loss: 0.5599 - accuracy: 0.7207\n",
      "\n",
      "\n",
      "Test loss: 0.5598742365837097\n",
      "Test accuracy: 0.7207159399986267\n"
     ]
    },
    {
     "data": {
      "text/plain": [
       "<keras.callbacks.History at 0x1e6802b18b0>"
      ]
     },
     "execution_count": 15,
     "metadata": {},
     "output_type": "execute_result"
    }
   ],
   "source": [
    "model = make_model(SimpleRNN(64))\n",
    "train_model(model)"
   ]
  },
  {
   "cell_type": "code",
   "execution_count": 16,
   "id": "wugUNoOJtb5c",
   "metadata": {
    "colab": {
     "base_uri": "https://localhost:8080/"
    },
    "id": "wugUNoOJtb5c",
    "outputId": "5a6c9e63-df2a-40e7-8e47-7cc3cd3e0e6d"
   },
   "outputs": [
    {
     "name": "stdout",
     "output_type": "stream",
     "text": [
      "Epoch 1/10\n",
      "638/638 [==============================] - 132s 200ms/step - loss: 0.5760 - accuracy: 0.7044 - val_loss: 0.5112 - val_accuracy: 0.7443\n",
      "Epoch 2/10\n",
      "638/638 [==============================] - 125s 197ms/step - loss: 0.4323 - accuracy: 0.8053 - val_loss: 0.5399 - val_accuracy: 0.7229\n",
      "89/89 [==============================] - 2s 18ms/step - loss: 0.5599 - accuracy: 0.7298\n",
      "\n",
      "\n",
      "Test loss: 0.5599355101585388\n",
      "Test accuracy: 0.7297976613044739\n"
     ]
    },
    {
     "data": {
      "text/plain": [
       "<keras.callbacks.History at 0x1e681d95dc0>"
      ]
     },
     "execution_count": 16,
     "metadata": {},
     "output_type": "execute_result"
    }
   ],
   "source": [
    "model = make_model(GRU(64))\n",
    "train_model(model)"
   ]
  },
  {
   "cell_type": "code",
   "execution_count": 17,
   "id": "3PLVs6L6tcJm",
   "metadata": {
    "colab": {
     "base_uri": "https://localhost:8080/"
    },
    "id": "3PLVs6L6tcJm",
    "outputId": "9eb3a6c1-879c-4d0f-8819-6a80c9cd8da2"
   },
   "outputs": [
    {
     "name": "stdout",
     "output_type": "stream",
     "text": [
      "Epoch 1/10\n",
      "638/638 [==============================] - 139s 212ms/step - loss: 0.5792 - accuracy: 0.7034 - val_loss: 0.5172 - val_accuracy: 0.7421\n",
      "Epoch 2/10\n",
      "638/638 [==============================] - 147s 231ms/step - loss: 0.4343 - accuracy: 0.8095 - val_loss: 0.5379 - val_accuracy: 0.7358\n",
      "89/89 [==============================] - 2s 28ms/step - loss: 0.6217 - accuracy: 0.7294\n",
      "\n",
      "\n",
      "Test loss: 0.6217399835586548\n",
      "Test accuracy: 0.7294449806213379\n"
     ]
    },
    {
     "data": {
      "text/plain": [
       "<keras.callbacks.History at 0x1e681fd1b20>"
      ]
     },
     "execution_count": 17,
     "metadata": {},
     "output_type": "execute_result"
    }
   ],
   "source": [
    "model = make_model(LSTM(64))\n",
    "train_model(model)"
   ]
  },
  {
   "cell_type": "markdown",
   "id": "d7d84cf6",
   "metadata": {
    "id": "d7d84cf6"
   },
   "source": [
    "## 3. построить совместные архитектуры CNN -> RNN  и (RNN -> CNN)"
   ]
  },
  {
   "cell_type": "code",
   "execution_count": 18,
   "id": "fIpYXsnBtk5Y",
   "metadata": {
    "colab": {
     "base_uri": "https://localhost:8080/"
    },
    "id": "fIpYXsnBtk5Y",
    "outputId": "19625dc8-f57c-49ce-cec0-d6ea49f6b3e9"
   },
   "outputs": [
    {
     "name": "stdout",
     "output_type": "stream",
     "text": [
      "Epoch 1/10\n",
      "638/638 [==============================] - 139s 215ms/step - loss: 0.5932 - accuracy: 0.6875 - val_loss: 0.5221 - val_accuracy: 0.7432\n",
      "Epoch 2/10\n",
      "638/638 [==============================] - 138s 216ms/step - loss: 0.4151 - accuracy: 0.8242 - val_loss: 0.5504 - val_accuracy: 0.7351\n",
      "89/89 [==============================] - 1s 13ms/step - loss: 0.5519 - accuracy: 0.7324\n",
      "\n",
      "\n",
      "Test loss: 0.5519497990608215\n",
      "Test accuracy: 0.7323546409606934\n"
     ]
    },
    {
     "data": {
      "text/plain": [
       "<keras.callbacks.History at 0x1e698e37d90>"
      ]
     },
     "execution_count": 18,
     "metadata": {},
     "output_type": "execute_result"
    }
   ],
   "source": [
    "model = make_model(Conv1D(128, 3),\n",
    "                   Activation(\"relu\"),\n",
    "                   SimpleRNN(64))\n",
    "train_model(model)"
   ]
  },
  {
   "cell_type": "code",
   "execution_count": 19,
   "id": "BnlnQbrytwDo",
   "metadata": {
    "colab": {
     "base_uri": "https://localhost:8080/"
    },
    "id": "BnlnQbrytwDo",
    "outputId": "ca634c70-851e-430c-ff2f-3fb2bf8f5177"
   },
   "outputs": [
    {
     "name": "stdout",
     "output_type": "stream",
     "text": [
      "Epoch 1/10\n",
      "638/638 [==============================] - 133s 206ms/step - loss: 0.6050 - accuracy: 0.6617 - val_loss: 0.5264 - val_accuracy: 0.7402\n",
      "Epoch 2/10\n",
      "638/638 [==============================] - 134s 211ms/step - loss: 0.4621 - accuracy: 0.7899 - val_loss: 0.5224 - val_accuracy: 0.7305\n",
      "Epoch 3/10\n",
      "638/638 [==============================] - 134s 209ms/step - loss: 0.3225 - accuracy: 0.8564 - val_loss: 0.6185 - val_accuracy: 0.7301\n",
      "89/89 [==============================] - 1s 13ms/step - loss: 0.6256 - accuracy: 0.7220\n",
      "\n",
      "\n",
      "Test loss: 0.625605046749115\n",
      "Test accuracy: 0.721950352191925\n"
     ]
    },
    {
     "data": {
      "text/plain": [
       "<keras.callbacks.History at 0x1e698e747f0>"
      ]
     },
     "execution_count": 19,
     "metadata": {},
     "output_type": "execute_result"
    }
   ],
   "source": [
    "model = make_model(SimpleRNN(64, return_sequences=True),\n",
    "                   Conv1D(64, 3),\n",
    "                   GlobalMaxPool1D())\n",
    "train_model(model)"
   ]
  },
  {
   "cell_type": "markdown",
   "id": "5490e7b0",
   "metadata": {
    "id": "5490e7b0"
   },
   "source": [
    "## 4. сделать выводы что получилось лучше"
   ]
  },
  {
   "cell_type": "markdown",
   "id": "WhSD0nT_0jxz",
   "metadata": {
    "id": "WhSD0nT_0jxz"
   },
   "source": [
    "Лучший результат на данном датасете показали сверточная сеть и CNN -> RNN. Рекуррентные сети показали себя незначительно хуже."
   ]
  },
  {
   "cell_type": "code",
   "execution_count": null,
   "id": "a6a385e3",
   "metadata": {},
   "outputs": [],
   "source": []
  }
 ],
 "metadata": {
  "accelerator": "GPU",
  "colab": {
   "gpuType": "T4",
   "provenance": []
  },
  "kernelspec": {
   "display_name": "Python 3 (ipykernel)",
   "language": "python",
   "name": "python3"
  },
  "language_info": {
   "codemirror_mode": {
    "name": "ipython",
    "version": 3
   },
   "file_extension": ".py",
   "mimetype": "text/x-python",
   "name": "python",
   "nbconvert_exporter": "python",
   "pygments_lexer": "ipython3",
   "version": "3.9.7"
  }
 },
 "nbformat": 4,
 "nbformat_minor": 5
}
