{
  "cells": [
    {
      "cell_type": "markdown",
      "id": "dd7e2d4e",
      "metadata": {
        "id": "dd7e2d4e"
      },
      "source": [
        "## Импорты"
      ]
    },
    {
      "cell_type": "code",
      "execution_count": 35,
      "id": "8c183321",
      "metadata": {
        "id": "8c183321"
      },
      "outputs": [],
      "source": [
        "import re\n",
        "from time import time\n",
        "\n",
        "from keras import Model\n",
        "from keras.utils import pad_sequences\n",
        "from keras.preprocessing.text import Tokenizer\n",
        "from keras.layers import Embedding, GRU, Dense\n",
        "from keras.optimizers import Adam\n",
        "from keras.losses import SparseCategoricalCrossentropy\n",
        "\n",
        "import tensorflow as tf\n",
        "from tensorflow.data import Dataset\n",
        "\n",
        "from sklearn.model_selection import train_test_split\n",
        "import pandas as pd\n",
        "from google.colab import files"
      ]
    },
    {
      "cell_type": "markdown",
      "id": "f2dce9f4",
      "metadata": {
        "id": "f2dce9f4"
      },
      "source": [
        "## Настройки"
      ]
    },
    {
      "cell_type": "code",
      "source": [
        "files.upload()"
      ],
      "metadata": {
        "colab": {
          "base_uri": "https://localhost:8080/",
          "height": 73
        },
        "id": "sbBe8N-MivRo",
        "outputId": "3d1e2ccf-0652-46c1-ce11-afe36f44f6fc"
      },
      "id": "sbBe8N-MivRo",
      "execution_count": 31,
      "outputs": [
        {
          "output_type": "display_data",
          "data": {
            "text/plain": [
              "<IPython.core.display.HTML object>"
            ],
            "text/html": [
              "\n",
              "     <input type=\"file\" id=\"files-3b2957d1-0e7f-4e8f-82a4-579dc595fc31\" name=\"files[]\" multiple disabled\n",
              "        style=\"border:none\" />\n",
              "     <output id=\"result-3b2957d1-0e7f-4e8f-82a4-579dc595fc31\">\n",
              "      Upload widget is only available when the cell has been executed in the\n",
              "      current browser session. Please rerun this cell to enable.\n",
              "      </output>\n",
              "      <script>// Copyright 2017 Google LLC\n",
              "//\n",
              "// Licensed under the Apache License, Version 2.0 (the \"License\");\n",
              "// you may not use this file except in compliance with the License.\n",
              "// You may obtain a copy of the License at\n",
              "//\n",
              "//      http://www.apache.org/licenses/LICENSE-2.0\n",
              "//\n",
              "// Unless required by applicable law or agreed to in writing, software\n",
              "// distributed under the License is distributed on an \"AS IS\" BASIS,\n",
              "// WITHOUT WARRANTIES OR CONDITIONS OF ANY KIND, either express or implied.\n",
              "// See the License for the specific language governing permissions and\n",
              "// limitations under the License.\n",
              "\n",
              "/**\n",
              " * @fileoverview Helpers for google.colab Python module.\n",
              " */\n",
              "(function(scope) {\n",
              "function span(text, styleAttributes = {}) {\n",
              "  const element = document.createElement('span');\n",
              "  element.textContent = text;\n",
              "  for (const key of Object.keys(styleAttributes)) {\n",
              "    element.style[key] = styleAttributes[key];\n",
              "  }\n",
              "  return element;\n",
              "}\n",
              "\n",
              "// Max number of bytes which will be uploaded at a time.\n",
              "const MAX_PAYLOAD_SIZE = 100 * 1024;\n",
              "\n",
              "function _uploadFiles(inputId, outputId) {\n",
              "  const steps = uploadFilesStep(inputId, outputId);\n",
              "  const outputElement = document.getElementById(outputId);\n",
              "  // Cache steps on the outputElement to make it available for the next call\n",
              "  // to uploadFilesContinue from Python.\n",
              "  outputElement.steps = steps;\n",
              "\n",
              "  return _uploadFilesContinue(outputId);\n",
              "}\n",
              "\n",
              "// This is roughly an async generator (not supported in the browser yet),\n",
              "// where there are multiple asynchronous steps and the Python side is going\n",
              "// to poll for completion of each step.\n",
              "// This uses a Promise to block the python side on completion of each step,\n",
              "// then passes the result of the previous step as the input to the next step.\n",
              "function _uploadFilesContinue(outputId) {\n",
              "  const outputElement = document.getElementById(outputId);\n",
              "  const steps = outputElement.steps;\n",
              "\n",
              "  const next = steps.next(outputElement.lastPromiseValue);\n",
              "  return Promise.resolve(next.value.promise).then((value) => {\n",
              "    // Cache the last promise value to make it available to the next\n",
              "    // step of the generator.\n",
              "    outputElement.lastPromiseValue = value;\n",
              "    return next.value.response;\n",
              "  });\n",
              "}\n",
              "\n",
              "/**\n",
              " * Generator function which is called between each async step of the upload\n",
              " * process.\n",
              " * @param {string} inputId Element ID of the input file picker element.\n",
              " * @param {string} outputId Element ID of the output display.\n",
              " * @return {!Iterable<!Object>} Iterable of next steps.\n",
              " */\n",
              "function* uploadFilesStep(inputId, outputId) {\n",
              "  const inputElement = document.getElementById(inputId);\n",
              "  inputElement.disabled = false;\n",
              "\n",
              "  const outputElement = document.getElementById(outputId);\n",
              "  outputElement.innerHTML = '';\n",
              "\n",
              "  const pickedPromise = new Promise((resolve) => {\n",
              "    inputElement.addEventListener('change', (e) => {\n",
              "      resolve(e.target.files);\n",
              "    });\n",
              "  });\n",
              "\n",
              "  const cancel = document.createElement('button');\n",
              "  inputElement.parentElement.appendChild(cancel);\n",
              "  cancel.textContent = 'Cancel upload';\n",
              "  const cancelPromise = new Promise((resolve) => {\n",
              "    cancel.onclick = () => {\n",
              "      resolve(null);\n",
              "    };\n",
              "  });\n",
              "\n",
              "  // Wait for the user to pick the files.\n",
              "  const files = yield {\n",
              "    promise: Promise.race([pickedPromise, cancelPromise]),\n",
              "    response: {\n",
              "      action: 'starting',\n",
              "    }\n",
              "  };\n",
              "\n",
              "  cancel.remove();\n",
              "\n",
              "  // Disable the input element since further picks are not allowed.\n",
              "  inputElement.disabled = true;\n",
              "\n",
              "  if (!files) {\n",
              "    return {\n",
              "      response: {\n",
              "        action: 'complete',\n",
              "      }\n",
              "    };\n",
              "  }\n",
              "\n",
              "  for (const file of files) {\n",
              "    const li = document.createElement('li');\n",
              "    li.append(span(file.name, {fontWeight: 'bold'}));\n",
              "    li.append(span(\n",
              "        `(${file.type || 'n/a'}) - ${file.size} bytes, ` +\n",
              "        `last modified: ${\n",
              "            file.lastModifiedDate ? file.lastModifiedDate.toLocaleDateString() :\n",
              "                                    'n/a'} - `));\n",
              "    const percent = span('0% done');\n",
              "    li.appendChild(percent);\n",
              "\n",
              "    outputElement.appendChild(li);\n",
              "\n",
              "    const fileDataPromise = new Promise((resolve) => {\n",
              "      const reader = new FileReader();\n",
              "      reader.onload = (e) => {\n",
              "        resolve(e.target.result);\n",
              "      };\n",
              "      reader.readAsArrayBuffer(file);\n",
              "    });\n",
              "    // Wait for the data to be ready.\n",
              "    let fileData = yield {\n",
              "      promise: fileDataPromise,\n",
              "      response: {\n",
              "        action: 'continue',\n",
              "      }\n",
              "    };\n",
              "\n",
              "    // Use a chunked sending to avoid message size limits. See b/62115660.\n",
              "    let position = 0;\n",
              "    do {\n",
              "      const length = Math.min(fileData.byteLength - position, MAX_PAYLOAD_SIZE);\n",
              "      const chunk = new Uint8Array(fileData, position, length);\n",
              "      position += length;\n",
              "\n",
              "      const base64 = btoa(String.fromCharCode.apply(null, chunk));\n",
              "      yield {\n",
              "        response: {\n",
              "          action: 'append',\n",
              "          file: file.name,\n",
              "          data: base64,\n",
              "        },\n",
              "      };\n",
              "\n",
              "      let percentDone = fileData.byteLength === 0 ?\n",
              "          100 :\n",
              "          Math.round((position / fileData.byteLength) * 100);\n",
              "      percent.textContent = `${percentDone}% done`;\n",
              "\n",
              "    } while (position < fileData.byteLength);\n",
              "  }\n",
              "\n",
              "  // All done.\n",
              "  yield {\n",
              "    response: {\n",
              "      action: 'complete',\n",
              "    }\n",
              "  };\n",
              "}\n",
              "\n",
              "scope.google = scope.google || {};\n",
              "scope.google.colab = scope.google.colab || {};\n",
              "scope.google.colab._files = {\n",
              "  _uploadFiles,\n",
              "  _uploadFilesContinue,\n",
              "};\n",
              "})(self);\n",
              "</script> "
            ]
          },
          "metadata": {}
        },
        {
          "output_type": "stream",
          "name": "stdout",
          "text": [
            "Saving rus.txt to rus.txt\n"
          ]
        }
      ]
    },
    {
      "cell_type": "code",
      "source": [
        "!ls"
      ],
      "metadata": {
        "colab": {
          "base_uri": "https://localhost:8080/"
        },
        "id": "wUmW3OywlIcp",
        "outputId": "153d5cce-41fd-4355-dc4c-3794d2b5ff24"
      },
      "id": "wUmW3OywlIcp",
      "execution_count": 32,
      "outputs": [
        {
          "output_type": "stream",
          "name": "stdout",
          "text": [
            "rus.txt  sample_data\n"
          ]
        }
      ]
    },
    {
      "cell_type": "code",
      "execution_count": 33,
      "id": "f845b2bd",
      "metadata": {
        "id": "f845b2bd"
      },
      "outputs": [],
      "source": [
        "PATH = \"./rus.txt\"\n",
        "DATA_LEN = 200000\n",
        "\n",
        "EPOCHS = 10\n",
        "BATCH_SIZE = 64\n",
        "EMBEDDING_DIM = 300\n",
        "UNITS = 1024"
      ]
    },
    {
      "cell_type": "markdown",
      "id": "f98aa3f4",
      "metadata": {
        "id": "f98aa3f4"
      },
      "source": [
        "## Данные"
      ]
    },
    {
      "cell_type": "code",
      "execution_count": 36,
      "id": "5abf2e46",
      "metadata": {
        "id": "5abf2e46"
      },
      "outputs": [],
      "source": [
        "def preprocess(text):\n",
        "    text = text.strip().lower()\n",
        "    text = re.sub(r\"([?.!,])\", r\" \\1 \", text)\n",
        "    text = re.sub(r'[\" \"]+', \" \",text)\n",
        "    text = re.sub(r\"[^a-zA-Zа-яА-Я?.!,']+\", \" \", text)\n",
        "    text = text.strip()\n",
        "    return '<start> ' + text + ' <end>'"
      ]
    },
    {
      "cell_type": "code",
      "execution_count": 37,
      "id": "8dec7458",
      "metadata": {
        "id": "8dec7458"
      },
      "outputs": [],
      "source": [
        "def tokenize(data):\n",
        "    tokenizer = Tokenizer(filters='')\n",
        "    tokenizer.fit_on_texts(data)\n",
        "    tensor = tokenizer.texts_to_sequences(data)\n",
        "    tensor = pad_sequences(tensor, padding='post')\n",
        "    return tensor, tokenizer"
      ]
    },
    {
      "cell_type": "code",
      "execution_count": 38,
      "id": "6bd81388",
      "metadata": {
        "id": "6bd81388"
      },
      "outputs": [],
      "source": [
        "def load_data(path, num_examples):\n",
        "    with open(path, 'r', encoding='utf-8') as file:\n",
        "        lines = file.readlines()\n",
        "        res = []\n",
        "\n",
        "        for line in lines[:num_examples]:\n",
        "            res.append([preprocess(text) for text in line.split('\\t')[:2]])\n",
        "\n",
        "        en, ru = zip(*res)\n",
        "        ru_tensor, ru_tokenizer = tokenize(ru)\n",
        "        en_tensor, en_tokenizer = tokenize(en)\n",
        "        return ru_tensor, en_tensor, ru_tokenizer, en_tokenizer"
      ]
    },
    {
      "cell_type": "code",
      "execution_count": 39,
      "id": "ca427679",
      "metadata": {
        "id": "ca427679"
      },
      "outputs": [],
      "source": [
        "ru_tensor, en_tensor, ru_tokenizer, en_tokenizer = load_data(PATH, DATA_LEN)\n",
        "\n",
        "ru_len, en_len = ru_tensor.shape[1], en_tensor.shape[1]\n",
        "ru_tensor_train, ru_tensor_val, en_tensor_train, en_tensor_val = train_test_split(ru_tensor, en_tensor, test_size=0.2)\n",
        "\n",
        "BUFFER_SIZE = len(ru_tensor_train)\n",
        "dataset = Dataset.from_tensor_slices((ru_tensor_train, en_tensor_train)).shuffle(BUFFER_SIZE)\n",
        "dataset = dataset.batch(BATCH_SIZE, drop_remainder=True)"
      ]
    },
    {
      "cell_type": "markdown",
      "id": "63e43e51",
      "metadata": {
        "id": "63e43e51"
      },
      "source": [
        "## Модель"
      ]
    },
    {
      "cell_type": "code",
      "execution_count": 40,
      "id": "9322c5b2",
      "metadata": {
        "id": "9322c5b2"
      },
      "outputs": [],
      "source": [
        "class Encoder(Model):\n",
        "    def __init__(self, vocab_size, embedding_dim, encoder_units, batch_size):\n",
        "        super().__init__()\n",
        "        self.batch_size = batch_size\n",
        "        self.encoder_units = encoder_units\n",
        "        self.embedding = Embedding(vocab_size, embedding_dim)\n",
        "        self.gru = GRU(encoder_units,\n",
        "                       return_sequences=False,\n",
        "                       return_state=True,\n",
        "                       recurrent_initializer='glorot_uniform')\n",
        "\n",
        "    def call(self, x, hidden):\n",
        "        x = self.embedding(x)\n",
        "        output, state = self.gru(x, initial_state = hidden)\n",
        "        return state\n",
        "\n",
        "    def initialize_hidden_state(self):\n",
        "        return tf.zeros((self.batch_size, self.encoder_units))"
      ]
    },
    {
      "cell_type": "code",
      "execution_count": 41,
      "id": "ea661b95",
      "metadata": {
        "id": "ea661b95"
      },
      "outputs": [],
      "source": [
        "class Decoder(Model):\n",
        "    def __init__(self, vocab_size, embedding_dim, decoder_units, batch_size):\n",
        "        super().__init__()\n",
        "        self.batch_size = batch_size\n",
        "        self.decoder_units = decoder_units\n",
        "        self.dense = Dense(vocab_size)\n",
        "        self.embedding = Embedding(vocab_size, embedding_dim)\n",
        "        self.gru = GRU(decoder_units,\n",
        "                       return_sequences=True,\n",
        "                       return_state=True,\n",
        "                       recurrent_initializer='glorot_uniform')\n",
        "\n",
        "    def call(self, x, hidden):\n",
        "        x = self.embedding(x)\n",
        "        output, state = self.gru(x, initial_state=hidden)\n",
        "        output = tf.reshape(output, (-1, output.shape[2]))\n",
        "        x = self.dense(output)\n",
        "        return x, state"
      ]
    },
    {
      "cell_type": "code",
      "execution_count": 42,
      "id": "e2941986",
      "metadata": {
        "id": "e2941986"
      },
      "outputs": [],
      "source": [
        "ru_vocab_size = len(ru_tokenizer.word_index)+1\n",
        "en_vocab_size = len(en_tokenizer.word_index)+1\n",
        "\n",
        "encoder = Encoder(ru_vocab_size, EMBEDDING_DIM, UNITS, BATCH_SIZE)\n",
        "decoder = Decoder(en_vocab_size, EMBEDDING_DIM, UNITS, BATCH_SIZE)\n",
        "\n",
        "optimizer = Adam()\n",
        "loss_obj = SparseCategoricalCrossentropy(from_logits=True, reduction='none')"
      ]
    },
    {
      "cell_type": "code",
      "execution_count": 43,
      "id": "b6a225ff",
      "metadata": {
        "id": "b6a225ff"
      },
      "outputs": [],
      "source": [
        "def loss_func(real, pred):\n",
        "    mask = tf.math.logical_not(tf.math.equal(real, 0))\n",
        "    loss_ = loss_obj(real, pred)\n",
        "    mask = tf.cast(mask, dtype=loss_.dtype)\n",
        "    loss_ *= mask\n",
        "    return tf.reduce_mean(loss_)"
      ]
    },
    {
      "cell_type": "markdown",
      "id": "61c8e77f",
      "metadata": {
        "id": "61c8e77f"
      },
      "source": [
        "## Обучение"
      ]
    },
    {
      "cell_type": "code",
      "execution_count": 44,
      "id": "f2d0e5ca",
      "metadata": {
        "id": "f2d0e5ca"
      },
      "outputs": [],
      "source": [
        "@tf.function\n",
        "def train_step(inp, targ, enc_hidden):\n",
        "    loss = 0\n",
        "    with tf.GradientTape() as tape:\n",
        "        enc_hidden = encoder(inp, enc_hidden)\n",
        "        dec_hidden = enc_hidden\n",
        "        dec_input = tf.expand_dims([en_tokenizer.word_index['<start>']] * BATCH_SIZE, 1)\n",
        "\n",
        "        for t in range(1, targ.shape[1]):\n",
        "            predictions, dec_hidden = decoder(dec_input, dec_hidden)\n",
        "            loss += loss_func(targ[:, t], predictions)\n",
        "            dec_input = tf.expand_dims(targ[:, t], 1)\n",
        "\n",
        "        batch_loss = (loss / int(targ.shape[1]))\n",
        "        variables = encoder.trainable_variables + decoder.trainable_variables\n",
        "        gradients = tape.gradient(loss, variables)\n",
        "\n",
        "        optimizer.apply_gradients(zip(gradients, variables))\n",
        "\n",
        "    return batch_loss"
      ]
    },
    {
      "cell_type": "code",
      "execution_count": 45,
      "id": "5cfe657e",
      "metadata": {
        "colab": {
          "base_uri": "https://localhost:8080/"
        },
        "id": "5cfe657e",
        "outputId": "17bf07aa-4a64-4620-f39a-9c79b61b8130"
      },
      "outputs": [
        {
          "output_type": "stream",
          "name": "stdout",
          "text": [
            "Epoch 1 Batch 0 Loss 4.8732\n",
            "Epoch 1 Batch 100 Loss 2.2085\n",
            "Epoch 1 Batch 200 Loss 1.9848\n",
            "Epoch 1 Batch 300 Loss 2.0020\n",
            "Epoch 1 Batch 400 Loss 1.6769\n",
            "Epoch 1 Batch 500 Loss 1.6238\n",
            "Epoch 1 Batch 600 Loss 1.4832\n",
            "Epoch 1 Batch 700 Loss 1.4597\n",
            "Epoch 1 Batch 800 Loss 1.4426\n",
            "Epoch 1 Batch 900 Loss 1.3879\n",
            "Epoch 1 Batch 1000 Loss 1.3668\n",
            "Epoch 1 Batch 1100 Loss 1.1679\n",
            "Epoch 1 Batch 1200 Loss 1.2965\n",
            "Epoch 1 Batch 1300 Loss 1.0979\n",
            "Epoch 1 Batch 1400 Loss 1.0300\n",
            "Epoch 1 Batch 1500 Loss 1.0075\n",
            "Epoch 1 Batch 1600 Loss 0.9179\n",
            "Epoch 1 Batch 1700 Loss 1.0902\n",
            "Epoch 1 Batch 1800 Loss 0.8532\n",
            "Epoch 1 Batch 1900 Loss 0.9747\n",
            "Epoch 1 Batch 2000 Loss 0.9352\n",
            "Epoch 1 Batch 2100 Loss 0.7847\n",
            "Epoch 1 Batch 2200 Loss 0.8116\n",
            "Epoch 1 Batch 2300 Loss 0.7893\n",
            "Epoch 1 Batch 2400 Loss 0.8224\n",
            "Epoch 1 Loss 1.2706\n",
            "Time taken for 1 epoch 158.0043170452118 sec\n",
            "\n",
            "Epoch 2 Batch 0 Loss 0.5637\n",
            "Epoch 2 Batch 100 Loss 0.5781\n",
            "Epoch 2 Batch 200 Loss 0.6073\n",
            "Epoch 2 Batch 300 Loss 0.5779\n",
            "Epoch 2 Batch 400 Loss 0.7004\n",
            "Epoch 2 Batch 500 Loss 0.5293\n",
            "Epoch 2 Batch 600 Loss 0.4987\n",
            "Epoch 2 Batch 700 Loss 0.5384\n",
            "Epoch 2 Batch 800 Loss 0.5980\n",
            "Epoch 2 Batch 900 Loss 0.5318\n",
            "Epoch 2 Batch 1000 Loss 0.6187\n",
            "Epoch 2 Batch 1100 Loss 0.4107\n",
            "Epoch 2 Batch 1200 Loss 0.4256\n",
            "Epoch 2 Batch 1300 Loss 0.4337\n",
            "Epoch 2 Batch 1400 Loss 0.4703\n",
            "Epoch 2 Batch 1500 Loss 0.4823\n",
            "Epoch 2 Batch 1600 Loss 0.4679\n",
            "Epoch 2 Batch 1700 Loss 0.3761\n",
            "Epoch 2 Batch 1800 Loss 0.5881\n",
            "Epoch 2 Batch 1900 Loss 0.4034\n",
            "Epoch 2 Batch 2000 Loss 0.4557\n",
            "Epoch 2 Batch 2100 Loss 0.4323\n",
            "Epoch 2 Batch 2200 Loss 0.3704\n",
            "Epoch 2 Batch 2300 Loss 0.4076\n",
            "Epoch 2 Batch 2400 Loss 0.4853\n",
            "Epoch 2 Loss 0.4851\n",
            "Time taken for 1 epoch 132.88784098625183 sec\n",
            "\n",
            "Epoch 3 Batch 0 Loss 0.2690\n",
            "Epoch 3 Batch 100 Loss 0.2665\n",
            "Epoch 3 Batch 200 Loss 0.2035\n",
            "Epoch 3 Batch 300 Loss 0.2538\n",
            "Epoch 3 Batch 400 Loss 0.2184\n",
            "Epoch 3 Batch 500 Loss 0.2906\n",
            "Epoch 3 Batch 600 Loss 0.2559\n",
            "Epoch 3 Batch 700 Loss 0.3169\n",
            "Epoch 3 Batch 800 Loss 0.3041\n",
            "Epoch 3 Batch 900 Loss 0.2837\n",
            "Epoch 3 Batch 1000 Loss 0.2907\n",
            "Epoch 3 Batch 1100 Loss 0.3039\n",
            "Epoch 3 Batch 1200 Loss 0.2833\n",
            "Epoch 3 Batch 1300 Loss 0.2360\n",
            "Epoch 3 Batch 1400 Loss 0.2454\n",
            "Epoch 3 Batch 1500 Loss 0.3028\n",
            "Epoch 3 Batch 1600 Loss 0.2627\n",
            "Epoch 3 Batch 1700 Loss 0.2634\n",
            "Epoch 3 Batch 1800 Loss 0.2798\n",
            "Epoch 3 Batch 1900 Loss 0.2031\n",
            "Epoch 3 Batch 2000 Loss 0.2014\n",
            "Epoch 3 Batch 2100 Loss 0.3461\n",
            "Epoch 3 Batch 2200 Loss 0.2509\n",
            "Epoch 3 Batch 2300 Loss 0.2523\n",
            "Epoch 3 Batch 2400 Loss 0.2562\n",
            "Epoch 3 Loss 0.2626\n",
            "Time taken for 1 epoch 132.00742149353027 sec\n",
            "\n",
            "Epoch 4 Batch 0 Loss 0.1477\n",
            "Epoch 4 Batch 100 Loss 0.1308\n",
            "Epoch 4 Batch 200 Loss 0.1680\n",
            "Epoch 4 Batch 300 Loss 0.1632\n",
            "Epoch 4 Batch 400 Loss 0.2041\n",
            "Epoch 4 Batch 500 Loss 0.1707\n",
            "Epoch 4 Batch 600 Loss 0.1775\n",
            "Epoch 4 Batch 700 Loss 0.1889\n",
            "Epoch 4 Batch 800 Loss 0.1370\n",
            "Epoch 4 Batch 900 Loss 0.1844\n",
            "Epoch 4 Batch 1000 Loss 0.1689\n",
            "Epoch 4 Batch 1100 Loss 0.1819\n",
            "Epoch 4 Batch 1200 Loss 0.1469\n",
            "Epoch 4 Batch 1300 Loss 0.1616\n",
            "Epoch 4 Batch 1400 Loss 0.1570\n",
            "Epoch 4 Batch 1500 Loss 0.1761\n",
            "Epoch 4 Batch 1600 Loss 0.2061\n",
            "Epoch 4 Batch 1700 Loss 0.1529\n",
            "Epoch 4 Batch 1800 Loss 0.1812\n",
            "Epoch 4 Batch 1900 Loss 0.2045\n",
            "Epoch 4 Batch 2000 Loss 0.1585\n",
            "Epoch 4 Batch 2100 Loss 0.2129\n",
            "Epoch 4 Batch 2200 Loss 0.2185\n",
            "Epoch 4 Batch 2300 Loss 0.2417\n",
            "Epoch 4 Batch 2400 Loss 0.1895\n",
            "Epoch 4 Loss 0.1750\n",
            "Time taken for 1 epoch 132.37877678871155 sec\n",
            "\n",
            "Epoch 5 Batch 0 Loss 0.0759\n",
            "Epoch 5 Batch 100 Loss 0.0970\n",
            "Epoch 5 Batch 200 Loss 0.1204\n",
            "Epoch 5 Batch 300 Loss 0.1173\n",
            "Epoch 5 Batch 400 Loss 0.0931\n",
            "Epoch 5 Batch 500 Loss 0.1357\n",
            "Epoch 5 Batch 600 Loss 0.0921\n",
            "Epoch 5 Batch 700 Loss 0.1470\n",
            "Epoch 5 Batch 800 Loss 0.1096\n",
            "Epoch 5 Batch 900 Loss 0.1560\n",
            "Epoch 5 Batch 1000 Loss 0.1018\n",
            "Epoch 5 Batch 1100 Loss 0.1331\n",
            "Epoch 5 Batch 1200 Loss 0.1426\n",
            "Epoch 5 Batch 1300 Loss 0.1425\n",
            "Epoch 5 Batch 1400 Loss 0.1497\n",
            "Epoch 5 Batch 1500 Loss 0.1691\n",
            "Epoch 5 Batch 1600 Loss 0.1192\n",
            "Epoch 5 Batch 1700 Loss 0.2113\n",
            "Epoch 5 Batch 1800 Loss 0.1547\n",
            "Epoch 5 Batch 1900 Loss 0.1503\n",
            "Epoch 5 Batch 2000 Loss 0.1364\n",
            "Epoch 5 Batch 2100 Loss 0.2069\n",
            "Epoch 5 Batch 2200 Loss 0.1841\n",
            "Epoch 5 Batch 2300 Loss 0.1491\n",
            "Epoch 5 Batch 2400 Loss 0.1613\n",
            "Epoch 5 Loss 0.1356\n",
            "Time taken for 1 epoch 132.3785948753357 sec\n",
            "\n",
            "Epoch 6 Batch 0 Loss 0.0863\n",
            "Epoch 6 Batch 100 Loss 0.0866\n",
            "Epoch 6 Batch 200 Loss 0.0984\n",
            "Epoch 6 Batch 300 Loss 0.0977\n",
            "Epoch 6 Batch 400 Loss 0.0618\n",
            "Epoch 6 Batch 500 Loss 0.0775\n",
            "Epoch 6 Batch 600 Loss 0.0928\n",
            "Epoch 6 Batch 700 Loss 0.0719\n",
            "Epoch 6 Batch 800 Loss 0.1358\n",
            "Epoch 6 Batch 900 Loss 0.1075\n",
            "Epoch 6 Batch 1000 Loss 0.1026\n",
            "Epoch 6 Batch 1100 Loss 0.0989\n",
            "Epoch 6 Batch 1200 Loss 0.1031\n",
            "Epoch 6 Batch 1300 Loss 0.0915\n",
            "Epoch 6 Batch 1400 Loss 0.0663\n",
            "Epoch 6 Batch 1500 Loss 0.1397\n",
            "Epoch 6 Batch 1600 Loss 0.1277\n",
            "Epoch 6 Batch 1700 Loss 0.1307\n",
            "Epoch 6 Batch 1800 Loss 0.1471\n",
            "Epoch 6 Batch 1900 Loss 0.1373\n",
            "Epoch 6 Batch 2000 Loss 0.1411\n",
            "Epoch 6 Batch 2100 Loss 0.1011\n",
            "Epoch 6 Batch 2200 Loss 0.1357\n",
            "Epoch 6 Batch 2300 Loss 0.1558\n",
            "Epoch 6 Batch 2400 Loss 0.1379\n",
            "Epoch 6 Loss 0.1162\n",
            "Time taken for 1 epoch 132.16784477233887 sec\n",
            "\n",
            "Epoch 7 Batch 0 Loss 0.0777\n",
            "Epoch 7 Batch 100 Loss 0.0695\n",
            "Epoch 7 Batch 200 Loss 0.1005\n",
            "Epoch 7 Batch 300 Loss 0.0926\n",
            "Epoch 7 Batch 400 Loss 0.0838\n",
            "Epoch 7 Batch 500 Loss 0.1146\n",
            "Epoch 7 Batch 600 Loss 0.1062\n",
            "Epoch 7 Batch 700 Loss 0.0840\n",
            "Epoch 7 Batch 800 Loss 0.0800\n",
            "Epoch 7 Batch 900 Loss 0.1046\n",
            "Epoch 7 Batch 1000 Loss 0.0659\n",
            "Epoch 7 Batch 1100 Loss 0.1318\n",
            "Epoch 7 Batch 1200 Loss 0.0832\n",
            "Epoch 7 Batch 1300 Loss 0.0977\n",
            "Epoch 7 Batch 1400 Loss 0.1141\n",
            "Epoch 7 Batch 1500 Loss 0.1204\n",
            "Epoch 7 Batch 1600 Loss 0.1253\n",
            "Epoch 7 Batch 1700 Loss 0.0987\n",
            "Epoch 7 Batch 1800 Loss 0.0971\n",
            "Epoch 7 Batch 1900 Loss 0.1050\n",
            "Epoch 7 Batch 2000 Loss 0.1276\n",
            "Epoch 7 Batch 2100 Loss 0.1680\n",
            "Epoch 7 Batch 2200 Loss 0.1031\n",
            "Epoch 7 Batch 2300 Loss 0.1160\n",
            "Epoch 7 Batch 2400 Loss 0.1415\n",
            "Epoch 7 Loss 0.1053\n",
            "Time taken for 1 epoch 131.92050790786743 sec\n",
            "\n",
            "Epoch 8 Batch 0 Loss 0.0521\n",
            "Epoch 8 Batch 100 Loss 0.0978\n",
            "Epoch 8 Batch 200 Loss 0.0975\n",
            "Epoch 8 Batch 300 Loss 0.0999\n",
            "Epoch 8 Batch 400 Loss 0.1102\n",
            "Epoch 8 Batch 500 Loss 0.1234\n",
            "Epoch 8 Batch 600 Loss 0.0806\n",
            "Epoch 8 Batch 700 Loss 0.0999\n",
            "Epoch 8 Batch 800 Loss 0.0604\n",
            "Epoch 8 Batch 900 Loss 0.0665\n",
            "Epoch 8 Batch 1000 Loss 0.0725\n",
            "Epoch 8 Batch 1100 Loss 0.0971\n",
            "Epoch 8 Batch 1200 Loss 0.1316\n",
            "Epoch 8 Batch 1300 Loss 0.1143\n",
            "Epoch 8 Batch 1400 Loss 0.1167\n",
            "Epoch 8 Batch 1500 Loss 0.0733\n",
            "Epoch 8 Batch 1600 Loss 0.0812\n",
            "Epoch 8 Batch 1700 Loss 0.1370\n",
            "Epoch 8 Batch 1800 Loss 0.1438\n",
            "Epoch 8 Batch 1900 Loss 0.1801\n",
            "Epoch 8 Batch 2000 Loss 0.1739\n",
            "Epoch 8 Batch 2100 Loss 0.1158\n",
            "Epoch 8 Batch 2200 Loss 0.1065\n",
            "Epoch 8 Batch 2300 Loss 0.1200\n",
            "Epoch 8 Batch 2400 Loss 0.1179\n",
            "Epoch 8 Loss 0.0993\n",
            "Time taken for 1 epoch 131.95531964302063 sec\n",
            "\n",
            "Epoch 9 Batch 0 Loss 0.0928\n",
            "Epoch 9 Batch 100 Loss 0.1020\n",
            "Epoch 9 Batch 200 Loss 0.0970\n",
            "Epoch 9 Batch 300 Loss 0.0799\n",
            "Epoch 9 Batch 400 Loss 0.1010\n",
            "Epoch 9 Batch 500 Loss 0.1005\n",
            "Epoch 9 Batch 600 Loss 0.0643\n",
            "Epoch 9 Batch 700 Loss 0.0698\n",
            "Epoch 9 Batch 800 Loss 0.1060\n",
            "Epoch 9 Batch 900 Loss 0.0725\n",
            "Epoch 9 Batch 1000 Loss 0.0521\n",
            "Epoch 9 Batch 1100 Loss 0.0872\n",
            "Epoch 9 Batch 1200 Loss 0.0981\n",
            "Epoch 9 Batch 1300 Loss 0.1278\n",
            "Epoch 9 Batch 1400 Loss 0.0821\n",
            "Epoch 9 Batch 1500 Loss 0.0585\n",
            "Epoch 9 Batch 1600 Loss 0.0973\n",
            "Epoch 9 Batch 1700 Loss 0.1319\n",
            "Epoch 9 Batch 1800 Loss 0.0855\n",
            "Epoch 9 Batch 1900 Loss 0.1091\n",
            "Epoch 9 Batch 2000 Loss 0.1133\n",
            "Epoch 9 Batch 2100 Loss 0.0915\n",
            "Epoch 9 Batch 2200 Loss 0.0948\n",
            "Epoch 9 Batch 2300 Loss 0.1252\n",
            "Epoch 9 Batch 2400 Loss 0.1458\n",
            "Epoch 9 Loss 0.0948\n",
            "Time taken for 1 epoch 131.9949507713318 sec\n",
            "\n",
            "Epoch 10 Batch 0 Loss 0.0746\n",
            "Epoch 10 Batch 100 Loss 0.0816\n",
            "Epoch 10 Batch 200 Loss 0.0779\n",
            "Epoch 10 Batch 300 Loss 0.0869\n",
            "Epoch 10 Batch 400 Loss 0.0863\n",
            "Epoch 10 Batch 500 Loss 0.0644\n",
            "Epoch 10 Batch 600 Loss 0.0652\n",
            "Epoch 10 Batch 700 Loss 0.0706\n",
            "Epoch 10 Batch 800 Loss 0.1036\n",
            "Epoch 10 Batch 900 Loss 0.0413\n",
            "Epoch 10 Batch 1000 Loss 0.0808\n",
            "Epoch 10 Batch 1100 Loss 0.0709\n",
            "Epoch 10 Batch 1200 Loss 0.1096\n",
            "Epoch 10 Batch 1300 Loss 0.0782\n",
            "Epoch 10 Batch 1400 Loss 0.0921\n",
            "Epoch 10 Batch 1500 Loss 0.0753\n",
            "Epoch 10 Batch 1600 Loss 0.0945\n",
            "Epoch 10 Batch 1700 Loss 0.0876\n",
            "Epoch 10 Batch 1800 Loss 0.1307\n",
            "Epoch 10 Batch 1900 Loss 0.0975\n",
            "Epoch 10 Batch 2000 Loss 0.0787\n",
            "Epoch 10 Batch 2100 Loss 0.0762\n",
            "Epoch 10 Batch 2200 Loss 0.1275\n",
            "Epoch 10 Batch 2300 Loss 0.0841\n",
            "Epoch 10 Batch 2400 Loss 0.0815\n",
            "Epoch 10 Loss 0.0912\n",
            "Time taken for 1 epoch 132.2002079486847 sec\n",
            "\n"
          ]
        }
      ],
      "source": [
        "steps_per_epoch = len(ru_tensor_train)//BATCH_SIZE\n",
        "\n",
        "for epoch in range(EPOCHS):\n",
        "    start_time = time()\n",
        "\n",
        "    enc_hidden = encoder.initialize_hidden_state()\n",
        "    total_loss = 0\n",
        "\n",
        "    for (batch, (inp, targ)) in enumerate(dataset.take(steps_per_epoch)):\n",
        "        batch_loss = train_step(inp, targ, enc_hidden)\n",
        "        total_loss += batch_loss\n",
        "\n",
        "        if batch % 100 == 0:\n",
        "            print('Epoch {} Batch {} Loss {:.4f}'.format(epoch + 1,\n",
        "                                                         batch,\n",
        "                                                         batch_loss.numpy()))\n",
        "\n",
        "    print('Epoch {} Loss {:.4f}'.format(epoch + 1, total_loss / steps_per_epoch))\n",
        "    print('Time taken for 1 epoch {} sec\\n'.format(time() - start_time))"
      ]
    },
    {
      "cell_type": "code",
      "execution_count": 46,
      "id": "a76f6bc8",
      "metadata": {
        "id": "a76f6bc8"
      },
      "outputs": [],
      "source": [
        "ru_max_len = ru_tensor.shape[1]\n",
        "en_max_len = en_tensor.shape[1]\n",
        "\n",
        "def translate(sentence):\n",
        "    sentence = preprocess(sentence)\n",
        "    inputs = [ru_tokenizer.word_index[i] for i in sentence.split(' ')]\n",
        "    inputs = pad_sequences([inputs],\n",
        "                            maxlen=ru_max_len,\n",
        "                            padding='post')\n",
        "\n",
        "    inputs = tf.convert_to_tensor(inputs)\n",
        "\n",
        "    result = ''\n",
        "    hidden = [tf.zeros((1, UNITS))]\n",
        "    enc_hidden = encoder(inputs, hidden)\n",
        "    dec_hidden = enc_hidden\n",
        "    dec_input = tf.expand_dims([en_tokenizer.word_index['<start>']], 0)\n",
        "\n",
        "    for t in range(en_max_len):\n",
        "        predictions, dec_hidden = decoder(dec_input, dec_hidden)\n",
        "        predicted_id = tf.argmax(predictions[0]).numpy()\n",
        "        if en_tokenizer.index_word[predicted_id] == '<end>':\n",
        "            return result, sentence\n",
        "\n",
        "        result += en_tokenizer.index_word[predicted_id] + ' '\n",
        "        dec_input = tf.expand_dims([predicted_id], 0)\n",
        "\n",
        "    return result, sentence"
      ]
    },
    {
      "cell_type": "code",
      "execution_count": 47,
      "id": "1Q0kZML__25v",
      "metadata": {
        "colab": {
          "base_uri": "https://localhost:8080/"
        },
        "id": "1Q0kZML__25v",
        "outputId": "a31694a9-fe07-4bf2-c233-95e62971ea9e"
      },
      "outputs": [
        {
          "output_type": "stream",
          "name": "stdout",
          "text": [
            "i will go with you . \n"
          ]
        }
      ],
      "source": [
        "print(translate('Я смогу пойти с тобой.')[0])"
      ]
    },
    {
      "cell_type": "code",
      "execution_count": 48,
      "id": "JWlRwaTLBWg9",
      "metadata": {
        "colab": {
          "base_uri": "https://localhost:8080/"
        },
        "id": "JWlRwaTLBWg9",
        "outputId": "744e12ab-ac0e-485c-a701-ff62438d46d7"
      },
      "outputs": [
        {
          "output_type": "stream",
          "name": "stdout",
          "text": [
            "i can't go with you . \n"
          ]
        }
      ],
      "source": [
        "print(translate('Я не смогу пойти с тобой.')[0])\n"
      ]
    },
    {
      "cell_type": "code",
      "execution_count": 49,
      "id": "6WUQ4ZEBBfuw",
      "metadata": {
        "colab": {
          "base_uri": "https://localhost:8080/"
        },
        "id": "6WUQ4ZEBBfuw",
        "outputId": "119966f8-d5e1-4d1d-af94-4a2d23e1ff83"
      },
      "outputs": [
        {
          "output_type": "stream",
          "name": "stdout",
          "text": [
            "this job is easy to me . \n"
          ]
        }
      ],
      "source": [
        "print(translate('Эта домашняя работа очень долго издеваться надо мной!')[0]) # издеваться -> в словаре небыло слова издевалась"
      ]
    },
    {
      "cell_type": "code",
      "execution_count": 50,
      "id": "7iTMs0DyCRMx",
      "metadata": {
        "colab": {
          "base_uri": "https://localhost:8080/"
        },
        "id": "7iTMs0DyCRMx",
        "outputId": "fd6a187f-4a0c-4a3b-868b-072331c89eaa"
      },
      "outputs": [
        {
          "output_type": "stream",
          "name": "stdout",
          "text": [
            "is it cold in the street ? \n"
          ]
        }
      ],
      "source": [
        "print(translate('Холодно ли на улице?')[0])"
      ]
    },
    {
      "cell_type": "code",
      "execution_count": 51,
      "id": "TNV6H9ZlK9EZ",
      "metadata": {
        "colab": {
          "base_uri": "https://localhost:8080/"
        },
        "id": "TNV6H9ZlK9EZ",
        "outputId": "6ee7ffc5-35b5-4db4-a519-d07e52765e4a"
      },
      "outputs": [
        {
          "output_type": "stream",
          "name": "stdout",
          "text": [
            "it's cold outside . \n",
            "is it cold outside ? \n"
          ]
        }
      ],
      "source": [
        "print(translate('На улице холодно!')[0])\n",
        "print(translate('На улице холодно?')[0])"
      ]
    },
    {
      "cell_type": "code",
      "execution_count": 52,
      "id": "DuEqZsD5LubB",
      "metadata": {
        "colab": {
          "base_uri": "https://localhost:8080/"
        },
        "id": "DuEqZsD5LubB",
        "outputId": "034ad625-6c23-4b09-a777-caee8ebf18c7"
      },
      "outputs": [
        {
          "output_type": "stream",
          "name": "stdout",
          "text": [
            "i'd still go there . \n"
          ]
        }
      ],
      "source": [
        "print(translate('На твоём месте я бы не пошел туда')[0])"
      ]
    }
  ],
  "metadata": {
    "accelerator": "GPU",
    "colab": {
      "gpuType": "T4",
      "provenance": []
    },
    "kernelspec": {
      "display_name": "Python 3",
      "name": "python3"
    },
    "language_info": {
      "codemirror_mode": {
        "name": "ipython",
        "version": 3
      },
      "file_extension": ".py",
      "mimetype": "text/x-python",
      "name": "python",
      "nbconvert_exporter": "python",
      "pygments_lexer": "ipython3",
      "version": "3.9.7"
    }
  },
  "nbformat": 4,
  "nbformat_minor": 5
}